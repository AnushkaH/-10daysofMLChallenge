{
  "nbformat": 4,
  "nbformat_minor": 0,
  "metadata": {
    "colab": {
      "name": "10 days of ML Challenge- Day 3",
      "provenance": [],
      "collapsed_sections": []
    },
    "kernelspec": {
      "name": "python3",
      "display_name": "Python 3"
    }
  },
  "cells": [
    {
      "cell_type": "code",
      "metadata": {
        "id": "Cgxdo_RuI6Rr",
        "colab_type": "code",
        "colab": {}
      },
      "source": [
        "import pandas as pd\n",
        "import matplotlib.pyplot as plt\n",
        "import numpy as np\n",
        "import seaborn as sns\n",
        "import statsmodels.api as sm\n",
        "from sklearn.linear_model import LinearRegression,LogisticRegression,Ridge,Lasso\n",
        "from sklearn.model_selection import GridSearchCV"
      ],
      "execution_count": 0,
      "outputs": []
    },
    {
      "cell_type": "code",
      "metadata": {
        "id": "LGPPd0TaJxiu",
        "colab_type": "code",
        "colab": {}
      },
      "source": [
        "df1=pd.read_csv('http://iali.in/datasets/loan_status_train.csv')"
      ],
      "execution_count": 0,
      "outputs": []
    },
    {
      "cell_type": "code",
      "metadata": {
        "id": "1RnX6hlxJ_3S",
        "colab_type": "code",
        "colab": {
          "base_uri": "https://localhost:8080/",
          "height": 191
        },
        "outputId": "bffdb29a-aa0d-490c-a966-ea05269e31b2"
      },
      "source": [
        "df1.head()"
      ],
      "execution_count": 3,
      "outputs": [
        {
          "output_type": "execute_result",
          "data": {
            "text/html": [
              "<div>\n",
              "<style scoped>\n",
              "    .dataframe tbody tr th:only-of-type {\n",
              "        vertical-align: middle;\n",
              "    }\n",
              "\n",
              "    .dataframe tbody tr th {\n",
              "        vertical-align: top;\n",
              "    }\n",
              "\n",
              "    .dataframe thead th {\n",
              "        text-align: right;\n",
              "    }\n",
              "</style>\n",
              "<table border=\"1\" class=\"dataframe\">\n",
              "  <thead>\n",
              "    <tr style=\"text-align: right;\">\n",
              "      <th></th>\n",
              "      <th>Loan_ID</th>\n",
              "      <th>Gender</th>\n",
              "      <th>Married</th>\n",
              "      <th>Dependents</th>\n",
              "      <th>Education</th>\n",
              "      <th>Self_Employed</th>\n",
              "      <th>ApplicantIncome</th>\n",
              "      <th>CoapplicantIncome</th>\n",
              "      <th>LoanAmount</th>\n",
              "      <th>Loan_Amount_Term</th>\n",
              "      <th>Credit_History</th>\n",
              "      <th>Property_Area</th>\n",
              "      <th>Loan_Status</th>\n",
              "    </tr>\n",
              "  </thead>\n",
              "  <tbody>\n",
              "    <tr>\n",
              "      <th>0</th>\n",
              "      <td>LP001002</td>\n",
              "      <td>Male</td>\n",
              "      <td>No</td>\n",
              "      <td>0</td>\n",
              "      <td>Graduate</td>\n",
              "      <td>No</td>\n",
              "      <td>5849</td>\n",
              "      <td>0.0</td>\n",
              "      <td>NaN</td>\n",
              "      <td>360.0</td>\n",
              "      <td>1.0</td>\n",
              "      <td>Urban</td>\n",
              "      <td>Y</td>\n",
              "    </tr>\n",
              "    <tr>\n",
              "      <th>1</th>\n",
              "      <td>LP001003</td>\n",
              "      <td>Male</td>\n",
              "      <td>Yes</td>\n",
              "      <td>1</td>\n",
              "      <td>Graduate</td>\n",
              "      <td>No</td>\n",
              "      <td>4583</td>\n",
              "      <td>1508.0</td>\n",
              "      <td>128.0</td>\n",
              "      <td>360.0</td>\n",
              "      <td>1.0</td>\n",
              "      <td>Rural</td>\n",
              "      <td>N</td>\n",
              "    </tr>\n",
              "    <tr>\n",
              "      <th>2</th>\n",
              "      <td>LP001005</td>\n",
              "      <td>Male</td>\n",
              "      <td>Yes</td>\n",
              "      <td>0</td>\n",
              "      <td>Graduate</td>\n",
              "      <td>Yes</td>\n",
              "      <td>3000</td>\n",
              "      <td>0.0</td>\n",
              "      <td>66.0</td>\n",
              "      <td>360.0</td>\n",
              "      <td>1.0</td>\n",
              "      <td>Urban</td>\n",
              "      <td>Y</td>\n",
              "    </tr>\n",
              "    <tr>\n",
              "      <th>3</th>\n",
              "      <td>LP001006</td>\n",
              "      <td>Male</td>\n",
              "      <td>Yes</td>\n",
              "      <td>0</td>\n",
              "      <td>Not Graduate</td>\n",
              "      <td>No</td>\n",
              "      <td>2583</td>\n",
              "      <td>2358.0</td>\n",
              "      <td>120.0</td>\n",
              "      <td>360.0</td>\n",
              "      <td>1.0</td>\n",
              "      <td>Urban</td>\n",
              "      <td>Y</td>\n",
              "    </tr>\n",
              "    <tr>\n",
              "      <th>4</th>\n",
              "      <td>LP001008</td>\n",
              "      <td>Male</td>\n",
              "      <td>No</td>\n",
              "      <td>0</td>\n",
              "      <td>Graduate</td>\n",
              "      <td>No</td>\n",
              "      <td>6000</td>\n",
              "      <td>0.0</td>\n",
              "      <td>141.0</td>\n",
              "      <td>360.0</td>\n",
              "      <td>1.0</td>\n",
              "      <td>Urban</td>\n",
              "      <td>Y</td>\n",
              "    </tr>\n",
              "  </tbody>\n",
              "</table>\n",
              "</div>"
            ],
            "text/plain": [
              "    Loan_ID Gender Married  ... Credit_History Property_Area Loan_Status\n",
              "0  LP001002   Male      No  ...            1.0         Urban           Y\n",
              "1  LP001003   Male     Yes  ...            1.0         Rural           N\n",
              "2  LP001005   Male     Yes  ...            1.0         Urban           Y\n",
              "3  LP001006   Male     Yes  ...            1.0         Urban           Y\n",
              "4  LP001008   Male      No  ...            1.0         Urban           Y\n",
              "\n",
              "[5 rows x 13 columns]"
            ]
          },
          "metadata": {
            "tags": []
          },
          "execution_count": 3
        }
      ]
    },
    {
      "cell_type": "code",
      "metadata": {
        "id": "JPD__V_iKDm7",
        "colab_type": "code",
        "colab": {
          "base_uri": "https://localhost:8080/",
          "height": 245
        },
        "outputId": "5b50d849-0f6b-4982-8856-32ce67e8135d"
      },
      "source": [
        "df1.isnull().sum()"
      ],
      "execution_count": 4,
      "outputs": [
        {
          "output_type": "execute_result",
          "data": {
            "text/plain": [
              "Loan_ID               0\n",
              "Gender               13\n",
              "Married               3\n",
              "Dependents           15\n",
              "Education             0\n",
              "Self_Employed        32\n",
              "ApplicantIncome       0\n",
              "CoapplicantIncome     0\n",
              "LoanAmount           22\n",
              "Loan_Amount_Term     14\n",
              "Credit_History       50\n",
              "Property_Area         0\n",
              "Loan_Status           0\n",
              "dtype: int64"
            ]
          },
          "metadata": {
            "tags": []
          },
          "execution_count": 4
        }
      ]
    },
    {
      "cell_type": "code",
      "metadata": {
        "id": "RV96WcL_KW_J",
        "colab_type": "code",
        "colab": {
          "base_uri": "https://localhost:8080/",
          "height": 33
        },
        "outputId": "f384142d-2087-4d68-a854-9d721491dbac"
      },
      "source": [
        "df1.shape"
      ],
      "execution_count": 5,
      "outputs": [
        {
          "output_type": "execute_result",
          "data": {
            "text/plain": [
              "(614, 13)"
            ]
          },
          "metadata": {
            "tags": []
          },
          "execution_count": 5
        }
      ]
    },
    {
      "cell_type": "code",
      "metadata": {
        "id": "IuqTtbDIKZyY",
        "colab_type": "code",
        "colab": {
          "base_uri": "https://localhost:8080/",
          "height": 310
        },
        "outputId": "215ab3a4-05fa-4e00-cdb4-273bb3a78cfe"
      },
      "source": [
        "df1.info()"
      ],
      "execution_count": 6,
      "outputs": [
        {
          "output_type": "stream",
          "text": [
            "<class 'pandas.core.frame.DataFrame'>\n",
            "RangeIndex: 614 entries, 0 to 613\n",
            "Data columns (total 13 columns):\n",
            "Loan_ID              614 non-null object\n",
            "Gender               601 non-null object\n",
            "Married              611 non-null object\n",
            "Dependents           599 non-null object\n",
            "Education            614 non-null object\n",
            "Self_Employed        582 non-null object\n",
            "ApplicantIncome      614 non-null int64\n",
            "CoapplicantIncome    614 non-null float64\n",
            "LoanAmount           592 non-null float64\n",
            "Loan_Amount_Term     600 non-null float64\n",
            "Credit_History       564 non-null float64\n",
            "Property_Area        614 non-null object\n",
            "Loan_Status          614 non-null object\n",
            "dtypes: float64(4), int64(1), object(8)\n",
            "memory usage: 62.5+ KB\n"
          ],
          "name": "stdout"
        }
      ]
    },
    {
      "cell_type": "code",
      "metadata": {
        "id": "66tQUHOpLK7n",
        "colab_type": "code",
        "colab": {}
      },
      "source": [
        "for item in ['Gender','Married','Dependents','Self_Employed','Credit_History']:\n",
        "  df1[item]=df1[item].fillna(df1[item].mode()[0])"
      ],
      "execution_count": 0,
      "outputs": []
    },
    {
      "cell_type": "code",
      "metadata": {
        "id": "tdtrrTX_Lhov",
        "colab_type": "code",
        "colab": {}
      },
      "source": [
        "for item in ['Loan_Amount_Term','LoanAmount']:\n",
        "  df1[item]=df1[item].fillna(df1[item].median())"
      ],
      "execution_count": 0,
      "outputs": []
    },
    {
      "cell_type": "code",
      "metadata": {
        "id": "yT_DMaKeLmEt",
        "colab_type": "code",
        "colab": {}
      },
      "source": [
        "df1['Gender']=df1['Gender'].map({'Male':0,'Female':1})\n",
        "df1['Married']=df1['Married'].map({'No':0,'Yes':1})\n",
        "df1['Education']=df1['Education'].map({'Not Graduate':0,'Graduate':1})\n",
        "df1['Self_Employed']=df1['Self_Employed'].map({'No':0,'Yes':1})\n",
        "df1['Property_Area']=df1['Property_Area'].map({'Rural':0,'Semiurban':1,'Urban':2})\n",
        "df1['Loan_Status']=df1['Loan_Status'].map({'N':0,'Y':1})\n",
        "df1['Dependents']=df1['Dependents'].map({'0':0,'1':1,'2':2,'3+':3})"
      ],
      "execution_count": 0,
      "outputs": []
    },
    {
      "cell_type": "code",
      "metadata": {
        "id": "WU0tK4T5Ru01",
        "colab_type": "code",
        "colab": {}
      },
      "source": [
        "df1=df1.drop('Loan_ID',axis=1)"
      ],
      "execution_count": 0,
      "outputs": []
    },
    {
      "cell_type": "code",
      "metadata": {
        "id": "3cmgVmT1Nljm",
        "colab_type": "code",
        "colab": {}
      },
      "source": [
        "from sklearn.model_selection import train_test_split\n",
        "df_train,df_test=train_test_split(df1,train_size=0.7,test_size=0.3,random_state=1)"
      ],
      "execution_count": 0,
      "outputs": []
    },
    {
      "cell_type": "code",
      "metadata": {
        "id": "RyR3Med1QA_h",
        "colab_type": "code",
        "colab": {}
      },
      "source": [
        "y_train=df_train.pop('Loan_Status')\n",
        "X_train=df_train"
      ],
      "execution_count": 0,
      "outputs": []
    },
    {
      "cell_type": "code",
      "metadata": {
        "id": "LF601LG0QrI2",
        "colab_type": "code",
        "colab": {}
      },
      "source": [
        "from sklearn.preprocessing import MinMaxScaler\n",
        "col=X_train.columns\n",
        "scaler=MinMaxScaler()\n",
        "X_train=scaler.fit_transform(X_train)\n",
        "X_train=pd.DataFrame(X_train,columns=col)"
      ],
      "execution_count": 0,
      "outputs": []
    },
    {
      "cell_type": "code",
      "metadata": {
        "id": "PRd7-lCCSH--",
        "colab_type": "code",
        "colab": {
          "base_uri": "https://localhost:8080/",
          "height": 98
        },
        "outputId": "a43c3656-cced-4db2-8fe9-ac10b0890a20"
      },
      "source": [
        "lr=LogisticRegression()\n",
        "lr.fit(X_train,y_train)"
      ],
      "execution_count": 14,
      "outputs": [
        {
          "output_type": "execute_result",
          "data": {
            "text/plain": [
              "LogisticRegression(C=1.0, class_weight=None, dual=False, fit_intercept=True,\n",
              "                   intercept_scaling=1, l1_ratio=None, max_iter=100,\n",
              "                   multi_class='auto', n_jobs=None, penalty='l2',\n",
              "                   random_state=None, solver='lbfgs', tol=0.0001, verbose=0,\n",
              "                   warm_start=False)"
            ]
          },
          "metadata": {
            "tags": []
          },
          "execution_count": 14
        }
      ]
    },
    {
      "cell_type": "code",
      "metadata": {
        "id": "nUXFK4TmTj6n",
        "colab_type": "code",
        "colab": {}
      },
      "source": [
        "X_train_pred=lr.predict(X_train)"
      ],
      "execution_count": 0,
      "outputs": []
    },
    {
      "cell_type": "code",
      "metadata": {
        "id": "8DE0mbxQT43i",
        "colab_type": "code",
        "colab": {}
      },
      "source": [
        "from sklearn.metrics import confusion_matrix"
      ],
      "execution_count": 0,
      "outputs": []
    },
    {
      "cell_type": "code",
      "metadata": {
        "id": "lQAMBYziUJsO",
        "colab_type": "code",
        "colab": {}
      },
      "source": [
        "confusion_matrix1=confusion_matrix(y_train,X_train_pred)"
      ],
      "execution_count": 0,
      "outputs": []
    },
    {
      "cell_type": "code",
      "metadata": {
        "id": "2rvulduXUUB_",
        "colab_type": "code",
        "colab": {
          "base_uri": "https://localhost:8080/",
          "height": 50
        },
        "outputId": "43308c6c-3b3b-4bf7-f31d-55389b49ba68"
      },
      "source": [
        "sensi=confusion_matrix1[1][1]/(confusion_matrix1[1][0]+ confusion_matrix1[1][1])\n",
        "accuracy=(confusion_matrix1[0][0]+confusion_matrix1[1][1])/(confusion_matrix1[0][0]+ confusion_matrix1[0][1]+confusion_matrix1[1][0]+confusion_matrix1[1][1])\n",
        "print('Sensitivity-',sensi)\n",
        "print('Accuracy',accuracy)"
      ],
      "execution_count": 18,
      "outputs": [
        {
          "output_type": "stream",
          "text": [
            "Sensitivity- 0.9832214765100671\n",
            "Accuracy 0.8181818181818182\n"
          ],
          "name": "stdout"
        }
      ]
    },
    {
      "cell_type": "code",
      "metadata": {
        "colab_type": "code",
        "id": "fPIHEG6yayW5",
        "colab": {}
      },
      "source": [
        "y_test=df_test.pop('Loan_Status')\n",
        "X_test=df_test"
      ],
      "execution_count": 0,
      "outputs": []
    },
    {
      "cell_type": "code",
      "metadata": {
        "colab_type": "code",
        "id": "_xWWka0wayXO",
        "colab": {}
      },
      "source": [
        "col=X_test.columns\n",
        "X_test=scaler.transform(X_test)\n",
        "X_test=pd.DataFrame(X_test,columns=col)"
      ],
      "execution_count": 0,
      "outputs": []
    },
    {
      "cell_type": "code",
      "metadata": {
        "id": "X_-sdGU3bFQN",
        "colab_type": "code",
        "colab": {}
      },
      "source": [
        "X_test_pred= lr.predict(X_test)"
      ],
      "execution_count": 0,
      "outputs": []
    },
    {
      "cell_type": "code",
      "metadata": {
        "id": "5uBzD54tbYZV",
        "colab_type": "code",
        "colab": {}
      },
      "source": [
        "confusion_matrix1=confusion_matrix(y_test,X_test_pred)"
      ],
      "execution_count": 0,
      "outputs": []
    },
    {
      "cell_type": "code",
      "metadata": {
        "id": "sisSGP9Kb59D",
        "colab_type": "code",
        "colab": {
          "base_uri": "https://localhost:8080/",
          "height": 50
        },
        "outputId": "a4fe6851-5dd3-4c37-e9d1-d47da2c517f3"
      },
      "source": [
        "sensi=confusion_matrix1[1][1]/(confusion_matrix1[1][0]+ confusion_matrix1[1][1])\n",
        "accuracy=(confusion_matrix1[0][0]+confusion_matrix1[1][1])/(confusion_matrix1[0][0]+ confusion_matrix1[0][1]+confusion_matrix1[1][0]+confusion_matrix1[1][1])\n",
        "print('Sensitivity-',sensi)\n",
        "print('Accuracy',accuracy)"
      ],
      "execution_count": 23,
      "outputs": [
        {
          "output_type": "stream",
          "text": [
            "Sensitivity- 0.9838709677419355\n",
            "Accuracy 0.7891891891891892\n"
          ],
          "name": "stdout"
        }
      ]
    },
    {
      "cell_type": "code",
      "metadata": {
        "id": "m8O4rMtm9ShP",
        "colab_type": "code",
        "colab": {
          "base_uri": "https://localhost:8080/",
          "height": 50
        },
        "outputId": "113540c2-7bd8-4255-d761-691f3e9178cb"
      },
      "source": [
        "from sklearn.neighbors import KNeighborsClassifier\n",
        "knn=KNeighborsClassifier()\n",
        "knn.fit(X_train,y_train)\n",
        "print('Accuracy- K-NN classifier on training set: {:.2f}'\n",
        "     .format(knn.score(X_train, y_train)))\n",
        "print('Accuracy- K-NN classifier on test set: {:.2f}'\n",
        "     .format(knn.score(X_test, y_test)))"
      ],
      "execution_count": 24,
      "outputs": [
        {
          "output_type": "stream",
          "text": [
            "Accuracy- K-NN classifier on training set: 0.84\n",
            "Accuracy- K-NN classifier on test set: 0.74\n"
          ],
          "name": "stdout"
        }
      ]
    },
    {
      "cell_type": "code",
      "metadata": {
        "id": "C8NUU1-n_KWq",
        "colab_type": "code",
        "colab": {
          "base_uri": "https://localhost:8080/",
          "height": 50
        },
        "outputId": "792ee9b5-721d-422a-8dc8-ac672752b3e5"
      },
      "source": [
        "from sklearn.svm import SVC\n",
        "svm = SVC()\n",
        "svm.fit(X_train, y_train)\n",
        "print('Accuracy of SVM classifier on training set: {:.2f}'\n",
        "     .format(svm.score(X_train, y_train)))\n",
        "print('Accuracy of SVM classifier on test set: {:.2f}'\n",
        "     .format(svm.score(X_test, y_test)))"
      ],
      "execution_count": 25,
      "outputs": [
        {
          "output_type": "stream",
          "text": [
            "Accuracy of SVM classifier on training set: 0.82\n",
            "Accuracy of SVM classifier on test set: 0.79\n"
          ],
          "name": "stdout"
        }
      ]
    },
    {
      "cell_type": "code",
      "metadata": {
        "id": "NdrUalVQ9STg",
        "colab_type": "code",
        "colab": {
          "base_uri": "https://localhost:8080/",
          "height": 50
        },
        "outputId": "d5ca2d3c-49c4-4ad7-e2eb-4408b5fead30"
      },
      "source": [
        "from sklearn.naive_bayes import GaussianNB\n",
        "gnb = GaussianNB()\n",
        "gnb.fit(X_train, y_train)\n",
        "print('Accuracy of GNB classifier on training set: {:.2f}'.format(gnb.score(X_train, y_train)))\n",
        "print('Accuracy of GNB classifier on test set: {:.2f}'.format(gnb.score(X_test, y_test)))"
      ],
      "execution_count": 26,
      "outputs": [
        {
          "output_type": "stream",
          "text": [
            "Accuracy of GNB classifier on training set: 0.80\n",
            "Accuracy of GNB classifier on test set: 0.79\n"
          ],
          "name": "stdout"
        }
      ]
    },
    {
      "cell_type": "code",
      "metadata": {
        "id": "SbWeffdVh_Pz",
        "colab_type": "code",
        "colab": {}
      },
      "source": [
        "df2= pd.read_csv('http://iali.in/datasets/cereal.csv')"
      ],
      "execution_count": 0,
      "outputs": []
    },
    {
      "cell_type": "code",
      "metadata": {
        "id": "iuwFsBvCiAPG",
        "colab_type": "code",
        "colab": {
          "base_uri": "https://localhost:8080/",
          "height": 191
        },
        "outputId": "ae7f88e8-8093-4749-affe-ce98e5fd0330"
      },
      "source": [
        "df2.head()"
      ],
      "execution_count": 28,
      "outputs": [
        {
          "output_type": "execute_result",
          "data": {
            "text/html": [
              "<div>\n",
              "<style scoped>\n",
              "    .dataframe tbody tr th:only-of-type {\n",
              "        vertical-align: middle;\n",
              "    }\n",
              "\n",
              "    .dataframe tbody tr th {\n",
              "        vertical-align: top;\n",
              "    }\n",
              "\n",
              "    .dataframe thead th {\n",
              "        text-align: right;\n",
              "    }\n",
              "</style>\n",
              "<table border=\"1\" class=\"dataframe\">\n",
              "  <thead>\n",
              "    <tr style=\"text-align: right;\">\n",
              "      <th></th>\n",
              "      <th>name</th>\n",
              "      <th>mfr</th>\n",
              "      <th>type</th>\n",
              "      <th>calories</th>\n",
              "      <th>protein</th>\n",
              "      <th>fat</th>\n",
              "      <th>sodium</th>\n",
              "      <th>fiber</th>\n",
              "      <th>carbo</th>\n",
              "      <th>sugars</th>\n",
              "      <th>potass</th>\n",
              "      <th>vitamins</th>\n",
              "      <th>shelf</th>\n",
              "      <th>weight</th>\n",
              "      <th>cups</th>\n",
              "      <th>rating</th>\n",
              "    </tr>\n",
              "  </thead>\n",
              "  <tbody>\n",
              "    <tr>\n",
              "      <th>0</th>\n",
              "      <td>100% Bran</td>\n",
              "      <td>N</td>\n",
              "      <td>C</td>\n",
              "      <td>70</td>\n",
              "      <td>4</td>\n",
              "      <td>1</td>\n",
              "      <td>130</td>\n",
              "      <td>10.0</td>\n",
              "      <td>5.0</td>\n",
              "      <td>6</td>\n",
              "      <td>280</td>\n",
              "      <td>25</td>\n",
              "      <td>3</td>\n",
              "      <td>1.0</td>\n",
              "      <td>0.33</td>\n",
              "      <td>68.402973</td>\n",
              "    </tr>\n",
              "    <tr>\n",
              "      <th>1</th>\n",
              "      <td>100% Natural Bran</td>\n",
              "      <td>Q</td>\n",
              "      <td>C</td>\n",
              "      <td>120</td>\n",
              "      <td>3</td>\n",
              "      <td>5</td>\n",
              "      <td>15</td>\n",
              "      <td>2.0</td>\n",
              "      <td>8.0</td>\n",
              "      <td>8</td>\n",
              "      <td>135</td>\n",
              "      <td>0</td>\n",
              "      <td>3</td>\n",
              "      <td>1.0</td>\n",
              "      <td>1.00</td>\n",
              "      <td>33.983679</td>\n",
              "    </tr>\n",
              "    <tr>\n",
              "      <th>2</th>\n",
              "      <td>All-Bran</td>\n",
              "      <td>K</td>\n",
              "      <td>C</td>\n",
              "      <td>70</td>\n",
              "      <td>4</td>\n",
              "      <td>1</td>\n",
              "      <td>260</td>\n",
              "      <td>9.0</td>\n",
              "      <td>7.0</td>\n",
              "      <td>5</td>\n",
              "      <td>320</td>\n",
              "      <td>25</td>\n",
              "      <td>3</td>\n",
              "      <td>1.0</td>\n",
              "      <td>0.33</td>\n",
              "      <td>59.425505</td>\n",
              "    </tr>\n",
              "    <tr>\n",
              "      <th>3</th>\n",
              "      <td>All-Bran with Extra Fiber</td>\n",
              "      <td>K</td>\n",
              "      <td>C</td>\n",
              "      <td>50</td>\n",
              "      <td>4</td>\n",
              "      <td>0</td>\n",
              "      <td>140</td>\n",
              "      <td>14.0</td>\n",
              "      <td>8.0</td>\n",
              "      <td>0</td>\n",
              "      <td>330</td>\n",
              "      <td>25</td>\n",
              "      <td>3</td>\n",
              "      <td>1.0</td>\n",
              "      <td>0.50</td>\n",
              "      <td>93.704912</td>\n",
              "    </tr>\n",
              "    <tr>\n",
              "      <th>4</th>\n",
              "      <td>Almond Delight</td>\n",
              "      <td>R</td>\n",
              "      <td>C</td>\n",
              "      <td>110</td>\n",
              "      <td>2</td>\n",
              "      <td>2</td>\n",
              "      <td>200</td>\n",
              "      <td>1.0</td>\n",
              "      <td>14.0</td>\n",
              "      <td>8</td>\n",
              "      <td>-1</td>\n",
              "      <td>25</td>\n",
              "      <td>3</td>\n",
              "      <td>1.0</td>\n",
              "      <td>0.75</td>\n",
              "      <td>34.384843</td>\n",
              "    </tr>\n",
              "  </tbody>\n",
              "</table>\n",
              "</div>"
            ],
            "text/plain": [
              "                        name mfr type  calories  ...  shelf  weight  cups     rating\n",
              "0                  100% Bran   N    C        70  ...      3     1.0  0.33  68.402973\n",
              "1          100% Natural Bran   Q    C       120  ...      3     1.0  1.00  33.983679\n",
              "2                   All-Bran   K    C        70  ...      3     1.0  0.33  59.425505\n",
              "3  All-Bran with Extra Fiber   K    C        50  ...      3     1.0  0.50  93.704912\n",
              "4             Almond Delight   R    C       110  ...      3     1.0  0.75  34.384843\n",
              "\n",
              "[5 rows x 16 columns]"
            ]
          },
          "metadata": {
            "tags": []
          },
          "execution_count": 28
        }
      ]
    },
    {
      "cell_type": "code",
      "metadata": {
        "id": "dZlzrhUriBS0",
        "colab_type": "code",
        "colab": {
          "base_uri": "https://localhost:8080/",
          "height": 33
        },
        "outputId": "4dc2f30c-9b0a-4b73-9a29-23134cd23be9"
      },
      "source": [
        "df2.shape"
      ],
      "execution_count": 29,
      "outputs": [
        {
          "output_type": "execute_result",
          "data": {
            "text/plain": [
              "(77, 16)"
            ]
          },
          "metadata": {
            "tags": []
          },
          "execution_count": 29
        }
      ]
    },
    {
      "cell_type": "code",
      "metadata": {
        "id": "HIdiqMm7iBEh",
        "colab_type": "code",
        "colab": {
          "base_uri": "https://localhost:8080/",
          "height": 358
        },
        "outputId": "ce9a6649-bccb-4bfd-d21c-802f57dc46a0"
      },
      "source": [
        "df2.info()"
      ],
      "execution_count": 30,
      "outputs": [
        {
          "output_type": "stream",
          "text": [
            "<class 'pandas.core.frame.DataFrame'>\n",
            "RangeIndex: 77 entries, 0 to 76\n",
            "Data columns (total 16 columns):\n",
            "name        77 non-null object\n",
            "mfr         77 non-null object\n",
            "type        77 non-null object\n",
            "calories    77 non-null int64\n",
            "protein     77 non-null int64\n",
            "fat         77 non-null int64\n",
            "sodium      77 non-null int64\n",
            "fiber       77 non-null float64\n",
            "carbo       77 non-null float64\n",
            "sugars      77 non-null int64\n",
            "potass      77 non-null int64\n",
            "vitamins    77 non-null int64\n",
            "shelf       77 non-null int64\n",
            "weight      77 non-null float64\n",
            "cups        77 non-null float64\n",
            "rating      77 non-null float64\n",
            "dtypes: float64(5), int64(8), object(3)\n",
            "memory usage: 9.8+ KB\n"
          ],
          "name": "stdout"
        }
      ]
    },
    {
      "cell_type": "code",
      "metadata": {
        "id": "-jW-VFA9hTua",
        "colab_type": "code",
        "colab": {
          "base_uri": "https://localhost:8080/",
          "height": 33
        },
        "outputId": "11da1c3f-fa72-42d0-9498-38f2c15956fc"
      },
      "source": [
        "df2['type'].unique()"
      ],
      "execution_count": 31,
      "outputs": [
        {
          "output_type": "execute_result",
          "data": {
            "text/plain": [
              "array(['C', 'H'], dtype=object)"
            ]
          },
          "metadata": {
            "tags": []
          },
          "execution_count": 31
        }
      ]
    },
    {
      "cell_type": "code",
      "metadata": {
        "id": "EDReZcF7uj0t",
        "colab_type": "code",
        "colab": {}
      },
      "source": [
        "df2['mfr']=df2['mfr'].map({'N':0,'Q':1,'K':2,'R':3,'G':4,'P':5,'A':6})\n",
        "df2['type']=df2['type'].map({'C':0,'H':1})"
      ],
      "execution_count": 0,
      "outputs": []
    },
    {
      "cell_type": "code",
      "metadata": {
        "id": "3n4-dxATvLLS",
        "colab_type": "code",
        "colab": {}
      },
      "source": [
        "df2=df2.drop('name',axis=1)"
      ],
      "execution_count": 0,
      "outputs": []
    },
    {
      "cell_type": "code",
      "metadata": {
        "colab_type": "code",
        "id": "sfTU3eIfwP9j",
        "colab": {}
      },
      "source": [
        "df_train,df_test=train_test_split(df2,train_size=0.8,test_size=0.2,random_state=1)"
      ],
      "execution_count": 0,
      "outputs": []
    },
    {
      "cell_type": "code",
      "metadata": {
        "colab_type": "code",
        "id": "sSgmqSi2wP98",
        "colab": {}
      },
      "source": [
        "y_train=df_train.pop('rating')\n",
        "X_train=df_train"
      ],
      "execution_count": 0,
      "outputs": []
    },
    {
      "cell_type": "code",
      "metadata": {
        "colab_type": "code",
        "id": "z9LcJQNjwP-G",
        "colab": {}
      },
      "source": [
        "col=X_train.columns\n",
        "scaler=MinMaxScaler()\n",
        "X_train=scaler.fit_transform(X_train)\n",
        "X_train=pd.DataFrame(X_train,columns=col)"
      ],
      "execution_count": 0,
      "outputs": []
    },
    {
      "cell_type": "code",
      "metadata": {
        "id": "0SPVCKu4xwX_",
        "colab_type": "code",
        "colab": {
          "base_uri": "https://localhost:8080/",
          "height": 642
        },
        "outputId": "566b2ded-aeea-4b43-c97a-264ecd24554d"
      },
      "source": [
        "X_train_lm = sm.add_constant(X_train)\n",
        "\n",
        "lr_1 = sm.OLS(list(y_train), X_train_lm).fit()\n",
        "lr_1.summary()"
      ],
      "execution_count": 37,
      "outputs": [
        {
          "output_type": "stream",
          "text": [
            "/usr/local/lib/python3.6/dist-packages/numpy/core/fromnumeric.py:2542: FutureWarning: Method .ptp is deprecated and will be removed in a future version. Use numpy.ptp instead.\n",
            "  return ptp(axis=axis, out=out, **kwargs)\n"
          ],
          "name": "stderr"
        },
        {
          "output_type": "execute_result",
          "data": {
            "text/html": [
              "<table class=\"simpletable\">\n",
              "<caption>OLS Regression Results</caption>\n",
              "<tr>\n",
              "  <th>Dep. Variable:</th>            <td>y</td>        <th>  R-squared:         </th> <td>   1.000</td> \n",
              "</tr>\n",
              "<tr>\n",
              "  <th>Model:</th>                   <td>OLS</td>       <th>  Adj. R-squared:    </th> <td>   1.000</td> \n",
              "</tr>\n",
              "<tr>\n",
              "  <th>Method:</th>             <td>Least Squares</td>  <th>  F-statistic:       </th> <td>9.420e+15</td>\n",
              "</tr>\n",
              "<tr>\n",
              "  <th>Date:</th>             <td>Wed, 25 Mar 2020</td> <th>  Prob (F-statistic):</th>  <td>  0.00</td>  \n",
              "</tr>\n",
              "<tr>\n",
              "  <th>Time:</th>                 <td>13:58:52</td>     <th>  Log-Likelihood:    </th> <td>  835.69</td> \n",
              "</tr>\n",
              "<tr>\n",
              "  <th>No. Observations:</th>      <td>    61</td>      <th>  AIC:               </th> <td>  -1641.</td> \n",
              "</tr>\n",
              "<tr>\n",
              "  <th>Df Residuals:</th>          <td>    46</td>      <th>  BIC:               </th> <td>  -1610.</td> \n",
              "</tr>\n",
              "<tr>\n",
              "  <th>Df Model:</th>              <td>    14</td>      <th>                     </th>     <td> </td>    \n",
              "</tr>\n",
              "<tr>\n",
              "  <th>Covariance Type:</th>      <td>nonrobust</td>    <th>                     </th>     <td> </td>    \n",
              "</tr>\n",
              "</table>\n",
              "<table class=\"simpletable\">\n",
              "<tr>\n",
              "      <td></td>        <th>coef</th>     <th>std err</th>      <th>t</th>      <th>P>|t|</th>  <th>[0.025</th>    <th>0.975]</th>  \n",
              "</tr>\n",
              "<tr>\n",
              "  <th>const</th>    <td>   52.5604</td> <td> 3.66e-07</td> <td> 1.44e+08</td> <td> 0.000</td> <td>   52.560</td> <td>   52.560</td>\n",
              "</tr>\n",
              "<tr>\n",
              "  <th>mfr</th>      <td> 3.304e-07</td> <td> 1.78e-07</td> <td>    1.859</td> <td> 0.069</td> <td>-2.73e-08</td> <td> 6.88e-07</td>\n",
              "</tr>\n",
              "<tr>\n",
              "  <th>type</th>     <td> 1.091e-08</td> <td> 3.63e-07</td> <td>    0.030</td> <td> 0.976</td> <td> -7.2e-07</td> <td> 7.42e-07</td>\n",
              "</tr>\n",
              "<tr>\n",
              "  <th>calories</th> <td>  -24.4997</td> <td> 9.72e-07</td> <td>-2.52e+07</td> <td> 0.000</td> <td>  -24.500</td> <td>  -24.500</td>\n",
              "</tr>\n",
              "<tr>\n",
              "  <th>protein</th>  <td>   16.3659</td> <td> 3.14e-07</td> <td> 5.21e+07</td> <td> 0.000</td> <td>   16.366</td> <td>   16.366</td>\n",
              "</tr>\n",
              "<tr>\n",
              "  <th>fat</th>      <td>   -8.4570</td> <td> 4.23e-07</td> <td>   -2e+07</td> <td> 0.000</td> <td>   -8.457</td> <td>   -8.457</td>\n",
              "</tr>\n",
              "<tr>\n",
              "  <th>sodium</th>   <td>  -15.8029</td> <td> 2.12e-07</td> <td>-7.45e+07</td> <td> 0.000</td> <td>  -15.803</td> <td>  -15.803</td>\n",
              "</tr>\n",
              "<tr>\n",
              "  <th>fiber</th>    <td>   48.2087</td> <td> 7.89e-07</td> <td> 6.11e+07</td> <td> 0.000</td> <td>   48.209</td> <td>   48.209</td>\n",
              "</tr>\n",
              "<tr>\n",
              "  <th>carbo</th>    <td>   18.5717</td> <td> 7.06e-07</td> <td> 2.63e+07</td> <td> 0.000</td> <td>   18.572</td> <td>   18.572</td>\n",
              "</tr>\n",
              "<tr>\n",
              "  <th>sugars</th>   <td>  -10.8734</td> <td> 6.09e-07</td> <td>-1.78e+07</td> <td> 0.000</td> <td>  -10.873</td> <td>  -10.873</td>\n",
              "</tr>\n",
              "<tr>\n",
              "  <th>potass</th>   <td>  -11.2518</td> <td> 6.27e-07</td> <td> -1.8e+07</td> <td> 0.000</td> <td>  -11.252</td> <td>  -11.252</td>\n",
              "</tr>\n",
              "<tr>\n",
              "  <th>vitamins</th> <td>   -5.1212</td> <td> 2.38e-07</td> <td>-2.15e+07</td> <td> 0.000</td> <td>   -5.121</td> <td>   -5.121</td>\n",
              "</tr>\n",
              "<tr>\n",
              "  <th>shelf</th>    <td>-1.254e-07</td> <td> 1.19e-07</td> <td>   -1.057</td> <td> 0.296</td> <td>-3.64e-07</td> <td> 1.13e-07</td>\n",
              "</tr>\n",
              "<tr>\n",
              "  <th>weight</th>   <td>-1.991e-07</td> <td> 6.18e-07</td> <td>   -0.322</td> <td> 0.749</td> <td>-1.44e-06</td> <td> 1.05e-06</td>\n",
              "</tr>\n",
              "<tr>\n",
              "  <th>cups</th>     <td> 2.448e-07</td> <td> 2.78e-07</td> <td>    0.882</td> <td> 0.382</td> <td>-3.14e-07</td> <td> 8.03e-07</td>\n",
              "</tr>\n",
              "</table>\n",
              "<table class=\"simpletable\">\n",
              "<tr>\n",
              "  <th>Omnibus:</th>       <td> 8.265</td> <th>  Durbin-Watson:     </th> <td>   2.083</td>\n",
              "</tr>\n",
              "<tr>\n",
              "  <th>Prob(Omnibus):</th> <td> 0.016</td> <th>  Jarque-Bera (JB):  </th> <td>   2.742</td>\n",
              "</tr>\n",
              "<tr>\n",
              "  <th>Skew:</th>          <td>-0.008</td> <th>  Prob(JB):          </th> <td>   0.254</td>\n",
              "</tr>\n",
              "<tr>\n",
              "  <th>Kurtosis:</th>      <td> 1.961</td> <th>  Cond. No.          </th> <td>    66.0</td>\n",
              "</tr>\n",
              "</table><br/><br/>Warnings:<br/>[1] Standard Errors assume that the covariance matrix of the errors is correctly specified."
            ],
            "text/plain": [
              "<class 'statsmodels.iolib.summary.Summary'>\n",
              "\"\"\"\n",
              "                            OLS Regression Results                            \n",
              "==============================================================================\n",
              "Dep. Variable:                      y   R-squared:                       1.000\n",
              "Model:                            OLS   Adj. R-squared:                  1.000\n",
              "Method:                 Least Squares   F-statistic:                 9.420e+15\n",
              "Date:                Wed, 25 Mar 2020   Prob (F-statistic):               0.00\n",
              "Time:                        13:58:52   Log-Likelihood:                 835.69\n",
              "No. Observations:                  61   AIC:                            -1641.\n",
              "Df Residuals:                      46   BIC:                            -1610.\n",
              "Df Model:                          14                                         \n",
              "Covariance Type:            nonrobust                                         \n",
              "==============================================================================\n",
              "                 coef    std err          t      P>|t|      [0.025      0.975]\n",
              "------------------------------------------------------------------------------\n",
              "const         52.5604   3.66e-07   1.44e+08      0.000      52.560      52.560\n",
              "mfr         3.304e-07   1.78e-07      1.859      0.069   -2.73e-08    6.88e-07\n",
              "type        1.091e-08   3.63e-07      0.030      0.976    -7.2e-07    7.42e-07\n",
              "calories     -24.4997   9.72e-07  -2.52e+07      0.000     -24.500     -24.500\n",
              "protein       16.3659   3.14e-07   5.21e+07      0.000      16.366      16.366\n",
              "fat           -8.4570   4.23e-07     -2e+07      0.000      -8.457      -8.457\n",
              "sodium       -15.8029   2.12e-07  -7.45e+07      0.000     -15.803     -15.803\n",
              "fiber         48.2087   7.89e-07   6.11e+07      0.000      48.209      48.209\n",
              "carbo         18.5717   7.06e-07   2.63e+07      0.000      18.572      18.572\n",
              "sugars       -10.8734   6.09e-07  -1.78e+07      0.000     -10.873     -10.873\n",
              "potass       -11.2518   6.27e-07   -1.8e+07      0.000     -11.252     -11.252\n",
              "vitamins      -5.1212   2.38e-07  -2.15e+07      0.000      -5.121      -5.121\n",
              "shelf      -1.254e-07   1.19e-07     -1.057      0.296   -3.64e-07    1.13e-07\n",
              "weight     -1.991e-07   6.18e-07     -0.322      0.749   -1.44e-06    1.05e-06\n",
              "cups        2.448e-07   2.78e-07      0.882      0.382   -3.14e-07    8.03e-07\n",
              "==============================================================================\n",
              "Omnibus:                        8.265   Durbin-Watson:                   2.083\n",
              "Prob(Omnibus):                  0.016   Jarque-Bera (JB):                2.742\n",
              "Skew:                          -0.008   Prob(JB):                        0.254\n",
              "Kurtosis:                       1.961   Cond. No.                         66.0\n",
              "==============================================================================\n",
              "\n",
              "Warnings:\n",
              "[1] Standard Errors assume that the covariance matrix of the errors is correctly specified.\n",
              "\"\"\""
            ]
          },
          "metadata": {
            "tags": []
          },
          "execution_count": 37
        }
      ]
    },
    {
      "cell_type": "code",
      "metadata": {
        "id": "ivthxpUrxwOg",
        "colab_type": "code",
        "colab": {
          "base_uri": "https://localhost:8080/",
          "height": 450
        },
        "outputId": "a2de6729-9a5b-4cde-ff15-ff85b965f6ee"
      },
      "source": [
        "from statsmodels.stats.outliers_influence import variance_inflation_factor\n",
        "vif = pd.DataFrame()\n",
        "vif['Features'] = X_train.columns\n",
        "vif['VIF'] = [variance_inflation_factor(X_train.values, i) for i in range(X_train.shape[1])]\n",
        "vif['VIF'] = round(vif['VIF'], 2)\n",
        "vif = vif.sort_values(by = \"VIF\", ascending = False)\n",
        "vif"
      ],
      "execution_count": 38,
      "outputs": [
        {
          "output_type": "execute_result",
          "data": {
            "text/html": [
              "<div>\n",
              "<style scoped>\n",
              "    .dataframe tbody tr th:only-of-type {\n",
              "        vertical-align: middle;\n",
              "    }\n",
              "\n",
              "    .dataframe tbody tr th {\n",
              "        vertical-align: top;\n",
              "    }\n",
              "\n",
              "    .dataframe thead th {\n",
              "        text-align: right;\n",
              "    }\n",
              "</style>\n",
              "<table border=\"1\" class=\"dataframe\">\n",
              "  <thead>\n",
              "    <tr style=\"text-align: right;\">\n",
              "      <th></th>\n",
              "      <th>Features</th>\n",
              "      <th>VIF</th>\n",
              "    </tr>\n",
              "  </thead>\n",
              "  <tbody>\n",
              "    <tr>\n",
              "      <th>2</th>\n",
              "      <td>calories</td>\n",
              "      <td>112.62</td>\n",
              "    </tr>\n",
              "    <tr>\n",
              "      <th>12</th>\n",
              "      <td>weight</td>\n",
              "      <td>71.11</td>\n",
              "    </tr>\n",
              "    <tr>\n",
              "      <th>7</th>\n",
              "      <td>carbo</td>\n",
              "      <td>50.84</td>\n",
              "    </tr>\n",
              "    <tr>\n",
              "      <th>8</th>\n",
              "      <td>sugars</td>\n",
              "      <td>34.30</td>\n",
              "    </tr>\n",
              "    <tr>\n",
              "      <th>9</th>\n",
              "      <td>potass</td>\n",
              "      <td>27.89</td>\n",
              "    </tr>\n",
              "    <tr>\n",
              "      <th>6</th>\n",
              "      <td>fiber</td>\n",
              "      <td>16.62</td>\n",
              "    </tr>\n",
              "    <tr>\n",
              "      <th>13</th>\n",
              "      <td>cups</td>\n",
              "      <td>10.88</td>\n",
              "    </tr>\n",
              "    <tr>\n",
              "      <th>5</th>\n",
              "      <td>sodium</td>\n",
              "      <td>10.18</td>\n",
              "    </tr>\n",
              "    <tr>\n",
              "      <th>0</th>\n",
              "      <td>mfr</td>\n",
              "      <td>7.51</td>\n",
              "    </tr>\n",
              "    <tr>\n",
              "      <th>3</th>\n",
              "      <td>protein</td>\n",
              "      <td>6.34</td>\n",
              "    </tr>\n",
              "    <tr>\n",
              "      <th>4</th>\n",
              "      <td>fat</td>\n",
              "      <td>5.99</td>\n",
              "    </tr>\n",
              "    <tr>\n",
              "      <th>11</th>\n",
              "      <td>shelf</td>\n",
              "      <td>4.35</td>\n",
              "    </tr>\n",
              "    <tr>\n",
              "      <th>10</th>\n",
              "      <td>vitamins</td>\n",
              "      <td>3.96</td>\n",
              "    </tr>\n",
              "    <tr>\n",
              "      <th>1</th>\n",
              "      <td>type</td>\n",
              "      <td>1.34</td>\n",
              "    </tr>\n",
              "  </tbody>\n",
              "</table>\n",
              "</div>"
            ],
            "text/plain": [
              "    Features     VIF\n",
              "2   calories  112.62\n",
              "12    weight   71.11\n",
              "7      carbo   50.84\n",
              "8     sugars   34.30\n",
              "9     potass   27.89\n",
              "6      fiber   16.62\n",
              "13      cups   10.88\n",
              "5     sodium   10.18\n",
              "0        mfr    7.51\n",
              "3    protein    6.34\n",
              "4        fat    5.99\n",
              "11     shelf    4.35\n",
              "10  vitamins    3.96\n",
              "1       type    1.34"
            ]
          },
          "metadata": {
            "tags": []
          },
          "execution_count": 38
        }
      ]
    },
    {
      "cell_type": "code",
      "metadata": {
        "id": "mrwQWYQ_xwS1",
        "colab_type": "code",
        "colab": {
          "base_uri": "https://localhost:8080/",
          "height": 66
        },
        "outputId": "22adffd2-0dc6-4ff6-86f6-88e4d94b3319"
      },
      "source": [
        "from sklearn.feature_selection import RFE\n",
        "rfe= RFE(LinearRegression(),5)\n",
        "rfe.fit(X_train,y_train)"
      ],
      "execution_count": 39,
      "outputs": [
        {
          "output_type": "execute_result",
          "data": {
            "text/plain": [
              "RFE(estimator=LinearRegression(copy_X=True, fit_intercept=True, n_jobs=None,\n",
              "                               normalize=False),\n",
              "    n_features_to_select=5, step=1, verbose=0)"
            ]
          },
          "metadata": {
            "tags": []
          },
          "execution_count": 39
        }
      ]
    },
    {
      "cell_type": "code",
      "metadata": {
        "id": "24tMvimbxwHK",
        "colab_type": "code",
        "colab": {
          "base_uri": "https://localhost:8080/",
          "height": 245
        },
        "outputId": "a1003f72-4583-446f-ccd4-008ca8a4fbc4"
      },
      "source": [
        "list(zip(X_train.columns, rfe.support_, rfe.ranking_))"
      ],
      "execution_count": 40,
      "outputs": [
        {
          "output_type": "execute_result",
          "data": {
            "text/plain": [
              "[('mfr', False, 7),\n",
              " ('type', False, 10),\n",
              " ('calories', True, 1),\n",
              " ('protein', True, 1),\n",
              " ('fat', False, 4),\n",
              " ('sodium', True, 1),\n",
              " ('fiber', True, 1),\n",
              " ('carbo', True, 1),\n",
              " ('sugars', False, 3),\n",
              " ('potass', False, 2),\n",
              " ('vitamins', False, 5),\n",
              " ('shelf', False, 9),\n",
              " ('weight', False, 8),\n",
              " ('cups', False, 6)]"
            ]
          },
          "metadata": {
            "tags": []
          },
          "execution_count": 40
        }
      ]
    },
    {
      "cell_type": "code",
      "metadata": {
        "id": "ux52cN-20_xl",
        "colab_type": "code",
        "colab": {}
      },
      "source": [
        "col = X_train.columns[rfe.support_]"
      ],
      "execution_count": 0,
      "outputs": []
    },
    {
      "cell_type": "code",
      "metadata": {
        "id": "PB3nihiL1H9H",
        "colab_type": "code",
        "colab": {
          "base_uri": "https://localhost:8080/",
          "height": 485
        },
        "outputId": "907ef2b3-c9ab-49e8-faa3-ab5e806a44c0"
      },
      "source": [
        "X_train_lm = sm.add_constant(X_train[col])\n",
        "\n",
        "lr_1 = sm.OLS(list(y_train), X_train_lm).fit()\n",
        "lr_1.summary()"
      ],
      "execution_count": 42,
      "outputs": [
        {
          "output_type": "stream",
          "text": [
            "/usr/local/lib/python3.6/dist-packages/numpy/core/fromnumeric.py:2542: FutureWarning: Method .ptp is deprecated and will be removed in a future version. Use numpy.ptp instead.\n",
            "  return ptp(axis=axis, out=out, **kwargs)\n"
          ],
          "name": "stderr"
        },
        {
          "output_type": "execute_result",
          "data": {
            "text/html": [
              "<table class=\"simpletable\">\n",
              "<caption>OLS Regression Results</caption>\n",
              "<tr>\n",
              "  <th>Dep. Variable:</th>            <td>y</td>        <th>  R-squared:         </th> <td>   0.986</td>\n",
              "</tr>\n",
              "<tr>\n",
              "  <th>Model:</th>                   <td>OLS</td>       <th>  Adj. R-squared:    </th> <td>   0.985</td>\n",
              "</tr>\n",
              "<tr>\n",
              "  <th>Method:</th>             <td>Least Squares</td>  <th>  F-statistic:       </th> <td>   763.8</td>\n",
              "</tr>\n",
              "<tr>\n",
              "  <th>Date:</th>             <td>Wed, 25 Mar 2020</td> <th>  Prob (F-statistic):</th> <td>1.74e-49</td>\n",
              "</tr>\n",
              "<tr>\n",
              "  <th>Time:</th>                 <td>13:58:53</td>     <th>  Log-Likelihood:    </th> <td> -120.10</td>\n",
              "</tr>\n",
              "<tr>\n",
              "  <th>No. Observations:</th>      <td>    61</td>      <th>  AIC:               </th> <td>   252.2</td>\n",
              "</tr>\n",
              "<tr>\n",
              "  <th>Df Residuals:</th>          <td>    55</td>      <th>  BIC:               </th> <td>   264.9</td>\n",
              "</tr>\n",
              "<tr>\n",
              "  <th>Df Model:</th>              <td>     5</td>      <th>                     </th>     <td> </td>   \n",
              "</tr>\n",
              "<tr>\n",
              "  <th>Covariance Type:</th>      <td>nonrobust</td>    <th>                     </th>     <td> </td>   \n",
              "</tr>\n",
              "</table>\n",
              "<table class=\"simpletable\">\n",
              "<tr>\n",
              "      <td></td>        <th>coef</th>     <th>std err</th>      <th>t</th>      <th>P>|t|</th>  <th>[0.025</th>    <th>0.975]</th>  \n",
              "</tr>\n",
              "<tr>\n",
              "  <th>const</th>    <td>   47.2604</td> <td>    0.975</td> <td>   48.452</td> <td> 0.000</td> <td>   45.306</td> <td>   49.215</td>\n",
              "</tr>\n",
              "<tr>\n",
              "  <th>calories</th> <td>  -48.7610</td> <td>    1.437</td> <td>  -33.922</td> <td> 0.000</td> <td>  -51.642</td> <td>  -45.880</td>\n",
              "</tr>\n",
              "<tr>\n",
              "  <th>protein</th>  <td>   19.2995</td> <td>    1.326</td> <td>   14.551</td> <td> 0.000</td> <td>   16.642</td> <td>   21.958</td>\n",
              "</tr>\n",
              "<tr>\n",
              "  <th>sodium</th>   <td>  -16.2707</td> <td>    0.984</td> <td>  -16.533</td> <td> 0.000</td> <td>  -18.243</td> <td>  -14.298</td>\n",
              "</tr>\n",
              "<tr>\n",
              "  <th>fiber</th>    <td>   36.2623</td> <td>    1.818</td> <td>   19.945</td> <td> 0.000</td> <td>   32.619</td> <td>   39.906</td>\n",
              "</tr>\n",
              "<tr>\n",
              "  <th>carbo</th>    <td>   31.8595</td> <td>    1.176</td> <td>   27.090</td> <td> 0.000</td> <td>   29.503</td> <td>   34.216</td>\n",
              "</tr>\n",
              "</table>\n",
              "<table class=\"simpletable\">\n",
              "<tr>\n",
              "  <th>Omnibus:</th>       <td> 2.759</td> <th>  Durbin-Watson:     </th> <td>   2.102</td>\n",
              "</tr>\n",
              "<tr>\n",
              "  <th>Prob(Omnibus):</th> <td> 0.252</td> <th>  Jarque-Bera (JB):  </th> <td>   1.993</td>\n",
              "</tr>\n",
              "<tr>\n",
              "  <th>Skew:</th>          <td>-0.240</td> <th>  Prob(JB):          </th> <td>   0.369</td>\n",
              "</tr>\n",
              "<tr>\n",
              "  <th>Kurtosis:</th>      <td> 3.744</td> <th>  Cond. No.          </th> <td>    13.6</td>\n",
              "</tr>\n",
              "</table><br/><br/>Warnings:<br/>[1] Standard Errors assume that the covariance matrix of the errors is correctly specified."
            ],
            "text/plain": [
              "<class 'statsmodels.iolib.summary.Summary'>\n",
              "\"\"\"\n",
              "                            OLS Regression Results                            \n",
              "==============================================================================\n",
              "Dep. Variable:                      y   R-squared:                       0.986\n",
              "Model:                            OLS   Adj. R-squared:                  0.985\n",
              "Method:                 Least Squares   F-statistic:                     763.8\n",
              "Date:                Wed, 25 Mar 2020   Prob (F-statistic):           1.74e-49\n",
              "Time:                        13:58:53   Log-Likelihood:                -120.10\n",
              "No. Observations:                  61   AIC:                             252.2\n",
              "Df Residuals:                      55   BIC:                             264.9\n",
              "Df Model:                           5                                         \n",
              "Covariance Type:            nonrobust                                         \n",
              "==============================================================================\n",
              "                 coef    std err          t      P>|t|      [0.025      0.975]\n",
              "------------------------------------------------------------------------------\n",
              "const         47.2604      0.975     48.452      0.000      45.306      49.215\n",
              "calories     -48.7610      1.437    -33.922      0.000     -51.642     -45.880\n",
              "protein       19.2995      1.326     14.551      0.000      16.642      21.958\n",
              "sodium       -16.2707      0.984    -16.533      0.000     -18.243     -14.298\n",
              "fiber         36.2623      1.818     19.945      0.000      32.619      39.906\n",
              "carbo         31.8595      1.176     27.090      0.000      29.503      34.216\n",
              "==============================================================================\n",
              "Omnibus:                        2.759   Durbin-Watson:                   2.102\n",
              "Prob(Omnibus):                  0.252   Jarque-Bera (JB):                1.993\n",
              "Skew:                          -0.240   Prob(JB):                        0.369\n",
              "Kurtosis:                       3.744   Cond. No.                         13.6\n",
              "==============================================================================\n",
              "\n",
              "Warnings:\n",
              "[1] Standard Errors assume that the covariance matrix of the errors is correctly specified.\n",
              "\"\"\""
            ]
          },
          "metadata": {
            "tags": []
          },
          "execution_count": 42
        }
      ]
    },
    {
      "cell_type": "code",
      "metadata": {
        "id": "mr5WhJ3x1Wzb",
        "colab_type": "code",
        "colab": {
          "base_uri": "https://localhost:8080/",
          "height": 220
        },
        "outputId": "1cbfb97c-1d59-4db1-bdd3-756192cc6a6b"
      },
      "source": [
        "from statsmodels.stats.outliers_influence import variance_inflation_factor\n",
        "vif = pd.DataFrame()\n",
        "vif['Features'] = X_train_lm.columns\n",
        "vif['VIF'] = [variance_inflation_factor(X_train_lm.values, i) for i in range(X_train_lm.shape[1])]\n",
        "vif['VIF'] = round(vif['VIF'], 2)\n",
        "vif = vif.sort_values(by = \"VIF\", ascending = False)\n",
        "vif"
      ],
      "execution_count": 43,
      "outputs": [
        {
          "output_type": "execute_result",
          "data": {
            "text/html": [
              "<div>\n",
              "<style scoped>\n",
              "    .dataframe tbody tr th:only-of-type {\n",
              "        vertical-align: middle;\n",
              "    }\n",
              "\n",
              "    .dataframe tbody tr th {\n",
              "        vertical-align: top;\n",
              "    }\n",
              "\n",
              "    .dataframe thead th {\n",
              "        text-align: right;\n",
              "    }\n",
              "</style>\n",
              "<table border=\"1\" class=\"dataframe\">\n",
              "  <thead>\n",
              "    <tr style=\"text-align: right;\">\n",
              "      <th></th>\n",
              "      <th>Features</th>\n",
              "      <th>VIF</th>\n",
              "    </tr>\n",
              "  </thead>\n",
              "  <tbody>\n",
              "    <tr>\n",
              "      <th>0</th>\n",
              "      <td>const</td>\n",
              "      <td>17.42</td>\n",
              "    </tr>\n",
              "    <tr>\n",
              "      <th>4</th>\n",
              "      <td>fiber</td>\n",
              "      <td>1.74</td>\n",
              "    </tr>\n",
              "    <tr>\n",
              "      <th>2</th>\n",
              "      <td>protein</td>\n",
              "      <td>1.50</td>\n",
              "    </tr>\n",
              "    <tr>\n",
              "      <th>5</th>\n",
              "      <td>carbo</td>\n",
              "      <td>1.34</td>\n",
              "    </tr>\n",
              "    <tr>\n",
              "      <th>1</th>\n",
              "      <td>calories</td>\n",
              "      <td>1.33</td>\n",
              "    </tr>\n",
              "    <tr>\n",
              "      <th>3</th>\n",
              "      <td>sodium</td>\n",
              "      <td>1.28</td>\n",
              "    </tr>\n",
              "  </tbody>\n",
              "</table>\n",
              "</div>"
            ],
            "text/plain": [
              "   Features    VIF\n",
              "0     const  17.42\n",
              "4     fiber   1.74\n",
              "2   protein   1.50\n",
              "5     carbo   1.34\n",
              "1  calories   1.33\n",
              "3    sodium   1.28"
            ]
          },
          "metadata": {
            "tags": []
          },
          "execution_count": 43
        }
      ]
    },
    {
      "cell_type": "code",
      "metadata": {
        "colab_type": "code",
        "id": "lA8l-He52p6S",
        "colab": {}
      },
      "source": [
        "y_test=df_test.pop('rating')\n",
        "X_test=df_test"
      ],
      "execution_count": 0,
      "outputs": []
    },
    {
      "cell_type": "code",
      "metadata": {
        "colab_type": "code",
        "id": "qUajBnLz2p6u",
        "colab": {}
      },
      "source": [
        "col=X_test.columns\n",
        "X_test=scaler.transform(X_test)\n",
        "X_test=pd.DataFrame(X_test,columns=col)\n",
        "X_test1=X_test[['fiber','protein','carbo','calories','sodium']]"
      ],
      "execution_count": 0,
      "outputs": []
    },
    {
      "cell_type": "code",
      "metadata": {
        "colab_type": "code",
        "id": "Ph5Dfl_p2p65",
        "colab": {
          "base_uri": "https://localhost:8080/",
          "height": 50
        },
        "outputId": "2a760c0f-169c-4b7b-d42a-4fa67b3c79f7"
      },
      "source": [
        "X_test_pred= lr_1.predict(sm.add_constant(X_test1))"
      ],
      "execution_count": 46,
      "outputs": [
        {
          "output_type": "stream",
          "text": [
            "/usr/local/lib/python3.6/dist-packages/numpy/core/fromnumeric.py:2542: FutureWarning: Method .ptp is deprecated and will be removed in a future version. Use numpy.ptp instead.\n",
            "  return ptp(axis=axis, out=out, **kwargs)\n"
          ],
          "name": "stderr"
        }
      ]
    },
    {
      "cell_type": "code",
      "metadata": {
        "id": "JI24AurR3MUH",
        "colab_type": "code",
        "colab": {
          "base_uri": "https://localhost:8080/",
          "height": 33
        },
        "outputId": "460d4468-3df7-4786-f69b-24660a0cdddd"
      },
      "source": [
        "from sklearn.metrics import r2_score\n",
        "r2_score(y_test,X_test_pred)"
      ],
      "execution_count": 47,
      "outputs": [
        {
          "output_type": "execute_result",
          "data": {
            "text/plain": [
              "-11.005365392524114"
            ]
          },
          "metadata": {
            "tags": []
          },
          "execution_count": 47
        }
      ]
    },
    {
      "cell_type": "code",
      "metadata": {
        "id": "tn-cnkzc3YNW",
        "colab_type": "code",
        "colab": {
          "base_uri": "https://localhost:8080/",
          "height": 196
        },
        "outputId": "4ee57498-4fd5-4742-fca9-d87ae8c71f2c"
      },
      "source": [
        "# list of alphas to tune\n",
        "params = {'alpha': [0.0001, 0.001, 0.01, 0.05, 0.1]}\n",
        "\n",
        "\n",
        "ridge = Ridge()\n",
        "\n",
        "# cross validation\n",
        "folds = 5\n",
        "model_cv = GridSearchCV(estimator = ridge, \n",
        "                        param_grid = params, \n",
        "                        scoring= 'r2', \n",
        "                        cv = folds, \n",
        "                        return_train_score=True,\n",
        "                        verbose = 1)            \n",
        "model_cv.fit(X_train, y_train) "
      ],
      "execution_count": 48,
      "outputs": [
        {
          "output_type": "stream",
          "text": [
            "[Parallel(n_jobs=1)]: Using backend SequentialBackend with 1 concurrent workers.\n"
          ],
          "name": "stderr"
        },
        {
          "output_type": "stream",
          "text": [
            "Fitting 5 folds for each of 5 candidates, totalling 25 fits\n"
          ],
          "name": "stdout"
        },
        {
          "output_type": "stream",
          "text": [
            "[Parallel(n_jobs=1)]: Done  25 out of  25 | elapsed:    0.1s finished\n"
          ],
          "name": "stderr"
        },
        {
          "output_type": "execute_result",
          "data": {
            "text/plain": [
              "GridSearchCV(cv=5, error_score=nan,\n",
              "             estimator=Ridge(alpha=1.0, copy_X=True, fit_intercept=True,\n",
              "                             max_iter=None, normalize=False, random_state=None,\n",
              "                             solver='auto', tol=0.001),\n",
              "             iid='deprecated', n_jobs=None,\n",
              "             param_grid={'alpha': [0.0001, 0.001, 0.01, 0.05, 0.1]},\n",
              "             pre_dispatch='2*n_jobs', refit=True, return_train_score=True,\n",
              "             scoring='r2', verbose=1)"
            ]
          },
          "metadata": {
            "tags": []
          },
          "execution_count": 48
        }
      ]
    },
    {
      "cell_type": "code",
      "metadata": {
        "id": "nc_s7I723bjl",
        "colab_type": "code",
        "colab": {
          "base_uri": "https://localhost:8080/",
          "height": 292
        },
        "outputId": "4d822472-c207-4871-bbbe-32cb28c786a8"
      },
      "source": [
        "cv_results = pd.DataFrame(model_cv.cv_results_)\n",
        "\n",
        "cv_results.head()"
      ],
      "execution_count": 49,
      "outputs": [
        {
          "output_type": "execute_result",
          "data": {
            "text/html": [
              "<div>\n",
              "<style scoped>\n",
              "    .dataframe tbody tr th:only-of-type {\n",
              "        vertical-align: middle;\n",
              "    }\n",
              "\n",
              "    .dataframe tbody tr th {\n",
              "        vertical-align: top;\n",
              "    }\n",
              "\n",
              "    .dataframe thead th {\n",
              "        text-align: right;\n",
              "    }\n",
              "</style>\n",
              "<table border=\"1\" class=\"dataframe\">\n",
              "  <thead>\n",
              "    <tr style=\"text-align: right;\">\n",
              "      <th></th>\n",
              "      <th>mean_fit_time</th>\n",
              "      <th>std_fit_time</th>\n",
              "      <th>mean_score_time</th>\n",
              "      <th>std_score_time</th>\n",
              "      <th>param_alpha</th>\n",
              "      <th>params</th>\n",
              "      <th>split0_test_score</th>\n",
              "      <th>split1_test_score</th>\n",
              "      <th>split2_test_score</th>\n",
              "      <th>split3_test_score</th>\n",
              "      <th>split4_test_score</th>\n",
              "      <th>mean_test_score</th>\n",
              "      <th>std_test_score</th>\n",
              "      <th>rank_test_score</th>\n",
              "      <th>split0_train_score</th>\n",
              "      <th>split1_train_score</th>\n",
              "      <th>split2_train_score</th>\n",
              "      <th>split3_train_score</th>\n",
              "      <th>split4_train_score</th>\n",
              "      <th>mean_train_score</th>\n",
              "      <th>std_train_score</th>\n",
              "    </tr>\n",
              "  </thead>\n",
              "  <tbody>\n",
              "    <tr>\n",
              "      <th>0</th>\n",
              "      <td>0.003216</td>\n",
              "      <td>0.001631</td>\n",
              "      <td>0.001319</td>\n",
              "      <td>0.000459</td>\n",
              "      <td>0.0001</td>\n",
              "      <td>{'alpha': 0.0001}</td>\n",
              "      <td>1.000000</td>\n",
              "      <td>1.000000</td>\n",
              "      <td>1.000000</td>\n",
              "      <td>1.000000</td>\n",
              "      <td>1.000000</td>\n",
              "      <td>1.000000</td>\n",
              "      <td>8.302767e-08</td>\n",
              "      <td>1</td>\n",
              "      <td>1.000000</td>\n",
              "      <td>1.000000</td>\n",
              "      <td>1.000000</td>\n",
              "      <td>1.000000</td>\n",
              "      <td>1.000000</td>\n",
              "      <td>1.000000</td>\n",
              "      <td>7.899304e-09</td>\n",
              "    </tr>\n",
              "    <tr>\n",
              "      <th>1</th>\n",
              "      <td>0.001867</td>\n",
              "      <td>0.000067</td>\n",
              "      <td>0.000980</td>\n",
              "      <td>0.000017</td>\n",
              "      <td>0.001</td>\n",
              "      <td>{'alpha': 0.001}</td>\n",
              "      <td>0.999989</td>\n",
              "      <td>0.999974</td>\n",
              "      <td>0.999983</td>\n",
              "      <td>0.999995</td>\n",
              "      <td>0.999994</td>\n",
              "      <td>0.999987</td>\n",
              "      <td>7.951293e-06</td>\n",
              "      <td>2</td>\n",
              "      <td>0.999996</td>\n",
              "      <td>0.999994</td>\n",
              "      <td>0.999996</td>\n",
              "      <td>0.999996</td>\n",
              "      <td>0.999996</td>\n",
              "      <td>0.999996</td>\n",
              "      <td>7.442707e-07</td>\n",
              "    </tr>\n",
              "    <tr>\n",
              "      <th>2</th>\n",
              "      <td>0.001876</td>\n",
              "      <td>0.000075</td>\n",
              "      <td>0.000988</td>\n",
              "      <td>0.000020</td>\n",
              "      <td>0.01</td>\n",
              "      <td>{'alpha': 0.01}</td>\n",
              "      <td>0.999259</td>\n",
              "      <td>0.998184</td>\n",
              "      <td>0.998744</td>\n",
              "      <td>0.999647</td>\n",
              "      <td>0.999531</td>\n",
              "      <td>0.999073</td>\n",
              "      <td>5.425256e-04</td>\n",
              "      <td>3</td>\n",
              "      <td>0.999722</td>\n",
              "      <td>0.999614</td>\n",
              "      <td>0.999738</td>\n",
              "      <td>0.999709</td>\n",
              "      <td>0.999713</td>\n",
              "      <td>0.999699</td>\n",
              "      <td>4.396154e-05</td>\n",
              "    </tr>\n",
              "    <tr>\n",
              "      <th>3</th>\n",
              "      <td>0.002646</td>\n",
              "      <td>0.000475</td>\n",
              "      <td>0.001262</td>\n",
              "      <td>0.000277</td>\n",
              "      <td>0.05</td>\n",
              "      <td>{'alpha': 0.05}</td>\n",
              "      <td>0.993687</td>\n",
              "      <td>0.984610</td>\n",
              "      <td>0.988139</td>\n",
              "      <td>0.996393</td>\n",
              "      <td>0.995245</td>\n",
              "      <td>0.991615</td>\n",
              "      <td>4.504553e-03</td>\n",
              "      <td>4</td>\n",
              "      <td>0.997274</td>\n",
              "      <td>0.996700</td>\n",
              "      <td>0.997399</td>\n",
              "      <td>0.997007</td>\n",
              "      <td>0.996976</td>\n",
              "      <td>0.997071</td>\n",
              "      <td>2.447993e-04</td>\n",
              "    </tr>\n",
              "    <tr>\n",
              "      <th>4</th>\n",
              "      <td>0.001952</td>\n",
              "      <td>0.000042</td>\n",
              "      <td>0.001025</td>\n",
              "      <td>0.000010</td>\n",
              "      <td>0.1</td>\n",
              "      <td>{'alpha': 0.1}</td>\n",
              "      <td>0.988338</td>\n",
              "      <td>0.972315</td>\n",
              "      <td>0.977636</td>\n",
              "      <td>0.993230</td>\n",
              "      <td>0.990279</td>\n",
              "      <td>0.984360</td>\n",
              "      <td>7.997964e-03</td>\n",
              "      <td>5</td>\n",
              "      <td>0.994508</td>\n",
              "      <td>0.993954</td>\n",
              "      <td>0.994864</td>\n",
              "      <td>0.994074</td>\n",
              "      <td>0.993748</td>\n",
              "      <td>0.994230</td>\n",
              "      <td>4.030851e-04</td>\n",
              "    </tr>\n",
              "  </tbody>\n",
              "</table>\n",
              "</div>"
            ],
            "text/plain": [
              "   mean_fit_time  std_fit_time  ...  mean_train_score  std_train_score\n",
              "0       0.003216      0.001631  ...          1.000000     7.899304e-09\n",
              "1       0.001867      0.000067  ...          0.999996     7.442707e-07\n",
              "2       0.001876      0.000075  ...          0.999699     4.396154e-05\n",
              "3       0.002646      0.000475  ...          0.997071     2.447993e-04\n",
              "4       0.001952      0.000042  ...          0.994230     4.030851e-04\n",
              "\n",
              "[5 rows x 21 columns]"
            ]
          },
          "metadata": {
            "tags": []
          },
          "execution_count": 49
        }
      ]
    },
    {
      "cell_type": "code",
      "metadata": {
        "id": "7urfN_6g3f3o",
        "colab_type": "code",
        "colab": {
          "base_uri": "https://localhost:8080/",
          "height": 295
        },
        "outputId": "cae788a2-e095-4eda-d1a0-be386fd4facf"
      },
      "source": [
        "plt.plot(cv_results['param_alpha'], cv_results['mean_train_score'])\n",
        "plt.plot(cv_results['param_alpha'], cv_results['mean_test_score'])\n",
        "plt.xlabel('alpha')\n",
        "plt.ylabel('R2')\n",
        "plt.title(\"R2 and alpha\")\n",
        "plt.legend(['train score', 'test score'], loc='upper left')\n",
        "plt.show()"
      ],
      "execution_count": 50,
      "outputs": [
        {
          "output_type": "display_data",
          "data": {
            "image/png": "[encoded data removed]",
            "text/plain": [
              "<Figure size 432x288 with 1 Axes>"
            ]
          },
          "metadata": {
            "tags": []
          }
        }
      ]
    },
    {
      "cell_type": "code",
      "metadata": {
        "id": "AgfG16yF5Fd1",
        "colab_type": "code",
        "colab": {
          "base_uri": "https://localhost:8080/",
          "height": 50
        },
        "outputId": "2fd02fb8-588a-4d4f-f262-67abfa19e10f"
      },
      "source": [
        "ridge = Ridge(alpha=0.01)\n",
        "\n",
        "ridge.fit(X_train, y_train)\n",
        "y_train_pred= ridge.predict(X_train)\n",
        "print('Training set:',r2_score(y_train,y_train_pred))\n",
        "y_test_pred=ridge.predict(X_test)\n",
        "print('Test set:',r2_score(y_test,y_test_pred))"
      ],
      "execution_count": 51,
      "outputs": [
        {
          "output_type": "stream",
          "text": [
            "Training set: 0.9998140548795921\n",
            "Test set: 0.9961061190887918\n"
          ],
          "name": "stdout"
        }
      ]
    },
    {
      "cell_type": "code",
      "metadata": {
        "id": "HQC9qi6_5ahS",
        "colab_type": "code",
        "colab": {}
      },
      "source": [
        ""
      ],
      "execution_count": 0,
      "outputs": []
    },
    {
      "cell_type": "code",
      "metadata": {
        "colab_type": "code",
        "outputId": "a338c1c1-1f87-4570-c1e7-020a95f478ce",
        "id": "UJFn3JaP7fp3",
        "colab": {
          "base_uri": "https://localhost:8080/",
          "height": 212
        }
      },
      "source": [
        "# list of alphas to tune\n",
        "params = {'alpha': [0.0001, 0.001, 0.01, 0.05, 0.1]}\n",
        "\n",
        "\n",
        "lasso = Lasso()\n",
        "\n",
        "# cross validation\n",
        "folds = 5\n",
        "model_cv = GridSearchCV(estimator = lasso, \n",
        "                        param_grid = params, \n",
        "                        scoring= 'r2', \n",
        "                        cv = folds, \n",
        "                        return_train_score=True,\n",
        "                        verbose = 1)            \n",
        "model_cv.fit(X_train, y_train) "
      ],
      "execution_count": 52,
      "outputs": [
        {
          "output_type": "stream",
          "text": [
            "Fitting 5 folds for each of 5 candidates, totalling 25 fits\n"
          ],
          "name": "stdout"
        },
        {
          "output_type": "stream",
          "text": [
            "[Parallel(n_jobs=1)]: Using backend SequentialBackend with 1 concurrent workers.\n",
            "[Parallel(n_jobs=1)]: Done  25 out of  25 | elapsed:    0.1s finished\n"
          ],
          "name": "stderr"
        },
        {
          "output_type": "execute_result",
          "data": {
            "text/plain": [
              "GridSearchCV(cv=5, error_score=nan,\n",
              "             estimator=Lasso(alpha=1.0, copy_X=True, fit_intercept=True,\n",
              "                             max_iter=1000, normalize=False, positive=False,\n",
              "                             precompute=False, random_state=None,\n",
              "                             selection='cyclic', tol=0.0001, warm_start=False),\n",
              "             iid='deprecated', n_jobs=None,\n",
              "             param_grid={'alpha': [0.0001, 0.001, 0.01, 0.05, 0.1]},\n",
              "             pre_dispatch='2*n_jobs', refit=True, return_train_score=True,\n",
              "             scoring='r2', verbose=1)"
            ]
          },
          "metadata": {
            "tags": []
          },
          "execution_count": 52
        }
      ]
    },
    {
      "cell_type": "code",
      "metadata": {
        "colab_type": "code",
        "outputId": "f05c2385-ca3b-4902-c8c3-2034aa9bc292",
        "id": "L08AiKDB7fqT",
        "colab": {
          "base_uri": "https://localhost:8080/",
          "height": 292
        }
      },
      "source": [
        "cv_results = pd.DataFrame(model_cv.cv_results_)\n",
        "\n",
        "cv_results.head()"
      ],
      "execution_count": 53,
      "outputs": [
        {
          "output_type": "execute_result",
          "data": {
            "text/html": [
              "<div>\n",
              "<style scoped>\n",
              "    .dataframe tbody tr th:only-of-type {\n",
              "        vertical-align: middle;\n",
              "    }\n",
              "\n",
              "    .dataframe tbody tr th {\n",
              "        vertical-align: top;\n",
              "    }\n",
              "\n",
              "    .dataframe thead th {\n",
              "        text-align: right;\n",
              "    }\n",
              "</style>\n",
              "<table border=\"1\" class=\"dataframe\">\n",
              "  <thead>\n",
              "    <tr style=\"text-align: right;\">\n",
              "      <th></th>\n",
              "      <th>mean_fit_time</th>\n",
              "      <th>std_fit_time</th>\n",
              "      <th>mean_score_time</th>\n",
              "      <th>std_score_time</th>\n",
              "      <th>param_alpha</th>\n",
              "      <th>params</th>\n",
              "      <th>split0_test_score</th>\n",
              "      <th>split1_test_score</th>\n",
              "      <th>split2_test_score</th>\n",
              "      <th>split3_test_score</th>\n",
              "      <th>split4_test_score</th>\n",
              "      <th>mean_test_score</th>\n",
              "      <th>std_test_score</th>\n",
              "      <th>rank_test_score</th>\n",
              "      <th>split0_train_score</th>\n",
              "      <th>split1_train_score</th>\n",
              "      <th>split2_train_score</th>\n",
              "      <th>split3_train_score</th>\n",
              "      <th>split4_train_score</th>\n",
              "      <th>mean_train_score</th>\n",
              "      <th>std_train_score</th>\n",
              "    </tr>\n",
              "  </thead>\n",
              "  <tbody>\n",
              "    <tr>\n",
              "      <th>0</th>\n",
              "      <td>0.003404</td>\n",
              "      <td>0.002222</td>\n",
              "      <td>0.001309</td>\n",
              "      <td>0.000552</td>\n",
              "      <td>0.0001</td>\n",
              "      <td>{'alpha': 0.0001}</td>\n",
              "      <td>1.000000</td>\n",
              "      <td>1.000000</td>\n",
              "      <td>1.000000</td>\n",
              "      <td>1.000000</td>\n",
              "      <td>1.000000</td>\n",
              "      <td>1.000000</td>\n",
              "      <td>6.788681e-08</td>\n",
              "      <td>1</td>\n",
              "      <td>1.000000</td>\n",
              "      <td>1.000000</td>\n",
              "      <td>1.000000</td>\n",
              "      <td>1.000000</td>\n",
              "      <td>1.000000</td>\n",
              "      <td>1.000000</td>\n",
              "      <td>1.481378e-08</td>\n",
              "    </tr>\n",
              "    <tr>\n",
              "      <th>1</th>\n",
              "      <td>0.002258</td>\n",
              "      <td>0.000376</td>\n",
              "      <td>0.001020</td>\n",
              "      <td>0.000019</td>\n",
              "      <td>0.001</td>\n",
              "      <td>{'alpha': 0.001}</td>\n",
              "      <td>0.999981</td>\n",
              "      <td>0.999979</td>\n",
              "      <td>0.999978</td>\n",
              "      <td>0.999993</td>\n",
              "      <td>0.999985</td>\n",
              "      <td>0.999983</td>\n",
              "      <td>5.504959e-06</td>\n",
              "      <td>2</td>\n",
              "      <td>0.999994</td>\n",
              "      <td>0.999992</td>\n",
              "      <td>0.999994</td>\n",
              "      <td>0.999994</td>\n",
              "      <td>0.999993</td>\n",
              "      <td>0.999993</td>\n",
              "      <td>7.827785e-07</td>\n",
              "    </tr>\n",
              "    <tr>\n",
              "      <th>2</th>\n",
              "      <td>0.002057</td>\n",
              "      <td>0.000029</td>\n",
              "      <td>0.001010</td>\n",
              "      <td>0.000014</td>\n",
              "      <td>0.01</td>\n",
              "      <td>{'alpha': 0.01}</td>\n",
              "      <td>0.997553</td>\n",
              "      <td>0.997307</td>\n",
              "      <td>0.997070</td>\n",
              "      <td>0.999099</td>\n",
              "      <td>0.998151</td>\n",
              "      <td>0.997836</td>\n",
              "      <td>7.267337e-04</td>\n",
              "      <td>3</td>\n",
              "      <td>0.999180</td>\n",
              "      <td>0.999034</td>\n",
              "      <td>0.999261</td>\n",
              "      <td>0.999194</td>\n",
              "      <td>0.999076</td>\n",
              "      <td>0.999149</td>\n",
              "      <td>8.261252e-05</td>\n",
              "    </tr>\n",
              "    <tr>\n",
              "      <th>3</th>\n",
              "      <td>0.002028</td>\n",
              "      <td>0.000131</td>\n",
              "      <td>0.001073</td>\n",
              "      <td>0.000096</td>\n",
              "      <td>0.05</td>\n",
              "      <td>{'alpha': 0.05}</td>\n",
              "      <td>0.976903</td>\n",
              "      <td>0.973425</td>\n",
              "      <td>0.973876</td>\n",
              "      <td>0.994810</td>\n",
              "      <td>0.980303</td>\n",
              "      <td>0.979863</td>\n",
              "      <td>7.869746e-03</td>\n",
              "      <td>4</td>\n",
              "      <td>0.992727</td>\n",
              "      <td>0.991229</td>\n",
              "      <td>0.992783</td>\n",
              "      <td>0.990318</td>\n",
              "      <td>0.991279</td>\n",
              "      <td>0.991667</td>\n",
              "      <td>9.520716e-04</td>\n",
              "    </tr>\n",
              "    <tr>\n",
              "      <th>4</th>\n",
              "      <td>0.001993</td>\n",
              "      <td>0.000059</td>\n",
              "      <td>0.001021</td>\n",
              "      <td>0.000019</td>\n",
              "      <td>0.1</td>\n",
              "      <td>{'alpha': 0.1}</td>\n",
              "      <td>0.968418</td>\n",
              "      <td>0.961988</td>\n",
              "      <td>0.967284</td>\n",
              "      <td>0.993016</td>\n",
              "      <td>0.968742</td>\n",
              "      <td>0.971890</td>\n",
              "      <td>1.084017e-02</td>\n",
              "      <td>5</td>\n",
              "      <td>0.989424</td>\n",
              "      <td>0.987087</td>\n",
              "      <td>0.989502</td>\n",
              "      <td>0.986956</td>\n",
              "      <td>0.987256</td>\n",
              "      <td>0.988045</td>\n",
              "      <td>1.162017e-03</td>\n",
              "    </tr>\n",
              "  </tbody>\n",
              "</table>\n",
              "</div>"
            ],
            "text/plain": [
              "   mean_fit_time  std_fit_time  ...  mean_train_score  std_train_score\n",
              "0       0.003404      0.002222  ...          1.000000     1.481378e-08\n",
              "1       0.002258      0.000376  ...          0.999993     7.827785e-07\n",
              "2       0.002057      0.000029  ...          0.999149     8.261252e-05\n",
              "3       0.002028      0.000131  ...          0.991667     9.520716e-04\n",
              "4       0.001993      0.000059  ...          0.988045     1.162017e-03\n",
              "\n",
              "[5 rows x 21 columns]"
            ]
          },
          "metadata": {
            "tags": []
          },
          "execution_count": 53
        }
      ]
    },
    {
      "cell_type": "code",
      "metadata": {
        "colab_type": "code",
        "outputId": "05fdaa54-11cb-46f2-ecd6-9f1174b9a9f4",
        "id": "wfaDVCeA7fqe",
        "colab": {
          "base_uri": "https://localhost:8080/",
          "height": 295
        }
      },
      "source": [
        "plt.plot(cv_results['param_alpha'], cv_results['mean_train_score'])\n",
        "plt.plot(cv_results['param_alpha'], cv_results['mean_test_score'])\n",
        "plt.xlabel('alpha')\n",
        "plt.ylabel('R2')\n",
        "plt.title(\"R2 and alpha\")\n",
        "plt.legend(['train score', 'test score'], loc='upper left')\n",
        "plt.show()"
      ],
      "execution_count": 54,
      "outputs": [
        {
          "output_type": "display_data",
          "data": {
            "image/png": "[encoded data removed]",
            "text/plain": [
              "<Figure size 432x288 with 1 Axes>"
            ]
          },
          "metadata": {
            "tags": []
          }
        }
      ]
    },
    {
      "cell_type": "code",
      "metadata": {
        "colab_type": "code",
        "outputId": "46071071-be02-47f8-a01c-9bdfdbda1bac",
        "id": "e37t6-6J7fqt",
        "colab": {
          "base_uri": "https://localhost:8080/",
          "height": 50
        }
      },
      "source": [
        "lasso = Lasso(alpha=0.001)\n",
        "\n",
        "lasso.fit(X_train, y_train)\n",
        "y_train_pred= lasso.predict(X_train)\n",
        "print('Training set:',r2_score(y_train,y_train_pred))\n",
        "y_test_pred=lasso.predict(X_test)\n",
        "print('Test set:',r2_score(y_test,y_test_pred))"
      ],
      "execution_count": 55,
      "outputs": [
        {
          "output_type": "stream",
          "text": [
            "Training set: 0.9999939206409114\n",
            "Test set: 0.9999158163654401\n"
          ],
          "name": "stdout"
        }
      ]
    },
    {
      "cell_type": "code",
      "metadata": {
        "colab_type": "code",
        "id": "MTyMpdiM7fq4",
        "colab": {}
      },
      "source": [
        ""
      ],
      "execution_count": 0,
      "outputs": []
    },
    {
      "cell_type": "code",
      "metadata": {
        "id": "JAM7sZRT6qWt",
        "colab_type": "code",
        "colab": {}
      },
      "source": [
        ""
      ],
      "execution_count": 0,
      "outputs": []
    },
    {
      "cell_type": "code",
      "metadata": {
        "id": "vHAGt2Kx6sTv",
        "colab_type": "code",
        "colab": {}
      },
      "source": [
        ""
      ],
      "execution_count": 0,
      "outputs": []
    }
  ]
}