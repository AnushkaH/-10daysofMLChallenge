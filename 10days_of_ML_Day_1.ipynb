{
  "nbformat": 4,
  "nbformat_minor": 0,
  "metadata": {
    "colab": {
      "name": "10days of ML- Day 1",
      "provenance": [],
      "collapsed_sections": []
    },
    "kernelspec": {
      "name": "python3",
      "display_name": "Python 3"
    }
  },
  "cells": [
    {
      "cell_type": "code",
      "metadata": {
        "id": "sCkyDH8Kezjg",
        "colab_type": "code",
        "colab": {}
      },
      "source": [
        "import pandas as pd\n",
        "import numpy as np\n",
        "import matplotlib.pyplot as  plt\n",
        "import seaborn as sns"
      ],
      "execution_count": 0,
      "outputs": []
    },
    {
      "cell_type": "code",
      "metadata": {
        "id": "o57TqGCHfB5s",
        "colab_type": "code",
        "colab": {}
      },
      "source": [
        "df= pd.read_csv('https://data.humdata.org/hxlproxy/api/data-preview.csv?url=https%3A%2F%2Fraw.githubusercontent.com%2FCSSEGISandData%2FCOVID-19%2Fmaster%2Fcsse_covid_19_data%2Fcsse_covid_19_time_series%2Ftime_series_19-covid-Confirmed.csv&filename=time_series_2019-ncov-Confirmed.csv')"
      ],
      "execution_count": 0,
      "outputs": []
    },
    {
      "cell_type": "code",
      "metadata": {
        "id": "CYYmZoXAfYzJ",
        "colab_type": "code",
        "colab": {
          "base_uri": "https://localhost:8080/",
          "height": 211
        },
        "outputId": "e987d86c-ec5a-47e1-e18f-1a6b2b8f4155"
      },
      "source": [
        "df.head()"
      ],
      "execution_count": 3,
      "outputs": [
        {
          "output_type": "execute_result",
          "data": {
            "text/html": [
              "<div>\n",
              "<style scoped>\n",
              "    .dataframe tbody tr th:only-of-type {\n",
              "        vertical-align: middle;\n",
              "    }\n",
              "\n",
              "    .dataframe tbody tr th {\n",
              "        vertical-align: top;\n",
              "    }\n",
              "\n",
              "    .dataframe thead th {\n",
              "        text-align: right;\n",
              "    }\n",
              "</style>\n",
              "<table border=\"1\" class=\"dataframe\">\n",
              "  <thead>\n",
              "    <tr style=\"text-align: right;\">\n",
              "      <th></th>\n",
              "      <th>Province/State</th>\n",
              "      <th>Country/Region</th>\n",
              "      <th>Lat</th>\n",
              "      <th>Long</th>\n",
              "      <th>1/22/20</th>\n",
              "      <th>1/23/20</th>\n",
              "      <th>1/24/20</th>\n",
              "      <th>1/25/20</th>\n",
              "      <th>1/26/20</th>\n",
              "      <th>1/27/20</th>\n",
              "      <th>1/28/20</th>\n",
              "      <th>1/29/20</th>\n",
              "      <th>1/30/20</th>\n",
              "      <th>1/31/20</th>\n",
              "      <th>2/1/20</th>\n",
              "      <th>2/2/20</th>\n",
              "      <th>2/3/20</th>\n",
              "      <th>2/4/20</th>\n",
              "      <th>2/5/20</th>\n",
              "      <th>2/6/20</th>\n",
              "      <th>2/7/20</th>\n",
              "      <th>2/8/20</th>\n",
              "      <th>2/9/20</th>\n",
              "      <th>2/10/20</th>\n",
              "      <th>2/11/20</th>\n",
              "      <th>2/12/20</th>\n",
              "      <th>2/13/20</th>\n",
              "      <th>2/14/20</th>\n",
              "      <th>2/15/20</th>\n",
              "      <th>2/16/20</th>\n",
              "      <th>2/17/20</th>\n",
              "      <th>2/18/20</th>\n",
              "      <th>2/19/20</th>\n",
              "      <th>2/20/20</th>\n",
              "      <th>2/21/20</th>\n",
              "      <th>2/22/20</th>\n",
              "      <th>2/23/20</th>\n",
              "      <th>2/24/20</th>\n",
              "      <th>2/25/20</th>\n",
              "      <th>2/26/20</th>\n",
              "      <th>2/27/20</th>\n",
              "      <th>2/28/20</th>\n",
              "      <th>2/29/20</th>\n",
              "      <th>3/1/20</th>\n",
              "      <th>3/2/20</th>\n",
              "      <th>3/3/20</th>\n",
              "      <th>3/4/20</th>\n",
              "      <th>3/5/20</th>\n",
              "      <th>3/6/20</th>\n",
              "      <th>3/7/20</th>\n",
              "      <th>3/8/20</th>\n",
              "      <th>3/9/20</th>\n",
              "      <th>3/10/20</th>\n",
              "      <th>3/11/20</th>\n",
              "      <th>3/12/20</th>\n",
              "      <th>3/13/20</th>\n",
              "      <th>3/14/20</th>\n",
              "      <th>3/15/20</th>\n",
              "      <th>3/16/20</th>\n",
              "      <th>3/17/20</th>\n",
              "      <th>3/18/20</th>\n",
              "      <th>3/19/20</th>\n",
              "      <th>3/20/20</th>\n",
              "      <th>3/21/20</th>\n",
              "      <th>3/22/20</th>\n",
              "    </tr>\n",
              "  </thead>\n",
              "  <tbody>\n",
              "    <tr>\n",
              "      <th>0</th>\n",
              "      <td>NaN</td>\n",
              "      <td>Thailand</td>\n",
              "      <td>15.0000</td>\n",
              "      <td>101.0000</td>\n",
              "      <td>2</td>\n",
              "      <td>3</td>\n",
              "      <td>5</td>\n",
              "      <td>7</td>\n",
              "      <td>8</td>\n",
              "      <td>8</td>\n",
              "      <td>14</td>\n",
              "      <td>14</td>\n",
              "      <td>14</td>\n",
              "      <td>19</td>\n",
              "      <td>19</td>\n",
              "      <td>19</td>\n",
              "      <td>19</td>\n",
              "      <td>25</td>\n",
              "      <td>25</td>\n",
              "      <td>25</td>\n",
              "      <td>25</td>\n",
              "      <td>32</td>\n",
              "      <td>32</td>\n",
              "      <td>32</td>\n",
              "      <td>33</td>\n",
              "      <td>33</td>\n",
              "      <td>33</td>\n",
              "      <td>33</td>\n",
              "      <td>33</td>\n",
              "      <td>34</td>\n",
              "      <td>35</td>\n",
              "      <td>35</td>\n",
              "      <td>35</td>\n",
              "      <td>35</td>\n",
              "      <td>35</td>\n",
              "      <td>35</td>\n",
              "      <td>35</td>\n",
              "      <td>35</td>\n",
              "      <td>37</td>\n",
              "      <td>40</td>\n",
              "      <td>40</td>\n",
              "      <td>41</td>\n",
              "      <td>42</td>\n",
              "      <td>42</td>\n",
              "      <td>43</td>\n",
              "      <td>43</td>\n",
              "      <td>43</td>\n",
              "      <td>47</td>\n",
              "      <td>48</td>\n",
              "      <td>50</td>\n",
              "      <td>50</td>\n",
              "      <td>50</td>\n",
              "      <td>53</td>\n",
              "      <td>59</td>\n",
              "      <td>70</td>\n",
              "      <td>75</td>\n",
              "      <td>82</td>\n",
              "      <td>114</td>\n",
              "      <td>147</td>\n",
              "      <td>177</td>\n",
              "      <td>212</td>\n",
              "      <td>272</td>\n",
              "      <td>322</td>\n",
              "      <td>411</td>\n",
              "      <td>599</td>\n",
              "    </tr>\n",
              "    <tr>\n",
              "      <th>1</th>\n",
              "      <td>NaN</td>\n",
              "      <td>Japan</td>\n",
              "      <td>36.0000</td>\n",
              "      <td>138.0000</td>\n",
              "      <td>2</td>\n",
              "      <td>1</td>\n",
              "      <td>2</td>\n",
              "      <td>2</td>\n",
              "      <td>4</td>\n",
              "      <td>4</td>\n",
              "      <td>7</td>\n",
              "      <td>7</td>\n",
              "      <td>11</td>\n",
              "      <td>15</td>\n",
              "      <td>20</td>\n",
              "      <td>20</td>\n",
              "      <td>20</td>\n",
              "      <td>22</td>\n",
              "      <td>22</td>\n",
              "      <td>45</td>\n",
              "      <td>25</td>\n",
              "      <td>25</td>\n",
              "      <td>26</td>\n",
              "      <td>26</td>\n",
              "      <td>26</td>\n",
              "      <td>28</td>\n",
              "      <td>28</td>\n",
              "      <td>29</td>\n",
              "      <td>43</td>\n",
              "      <td>59</td>\n",
              "      <td>66</td>\n",
              "      <td>74</td>\n",
              "      <td>84</td>\n",
              "      <td>94</td>\n",
              "      <td>105</td>\n",
              "      <td>122</td>\n",
              "      <td>147</td>\n",
              "      <td>159</td>\n",
              "      <td>170</td>\n",
              "      <td>189</td>\n",
              "      <td>214</td>\n",
              "      <td>228</td>\n",
              "      <td>241</td>\n",
              "      <td>256</td>\n",
              "      <td>274</td>\n",
              "      <td>293</td>\n",
              "      <td>331</td>\n",
              "      <td>360</td>\n",
              "      <td>420</td>\n",
              "      <td>461</td>\n",
              "      <td>502</td>\n",
              "      <td>511</td>\n",
              "      <td>581</td>\n",
              "      <td>639</td>\n",
              "      <td>639</td>\n",
              "      <td>701</td>\n",
              "      <td>773</td>\n",
              "      <td>839</td>\n",
              "      <td>825</td>\n",
              "      <td>878</td>\n",
              "      <td>889</td>\n",
              "      <td>924</td>\n",
              "      <td>963</td>\n",
              "      <td>1007</td>\n",
              "      <td>1086</td>\n",
              "    </tr>\n",
              "    <tr>\n",
              "      <th>2</th>\n",
              "      <td>NaN</td>\n",
              "      <td>Singapore</td>\n",
              "      <td>1.2833</td>\n",
              "      <td>103.8333</td>\n",
              "      <td>0</td>\n",
              "      <td>1</td>\n",
              "      <td>3</td>\n",
              "      <td>3</td>\n",
              "      <td>4</td>\n",
              "      <td>5</td>\n",
              "      <td>7</td>\n",
              "      <td>7</td>\n",
              "      <td>10</td>\n",
              "      <td>13</td>\n",
              "      <td>16</td>\n",
              "      <td>18</td>\n",
              "      <td>18</td>\n",
              "      <td>24</td>\n",
              "      <td>28</td>\n",
              "      <td>28</td>\n",
              "      <td>30</td>\n",
              "      <td>33</td>\n",
              "      <td>40</td>\n",
              "      <td>45</td>\n",
              "      <td>47</td>\n",
              "      <td>50</td>\n",
              "      <td>58</td>\n",
              "      <td>67</td>\n",
              "      <td>72</td>\n",
              "      <td>75</td>\n",
              "      <td>77</td>\n",
              "      <td>81</td>\n",
              "      <td>84</td>\n",
              "      <td>84</td>\n",
              "      <td>85</td>\n",
              "      <td>85</td>\n",
              "      <td>89</td>\n",
              "      <td>89</td>\n",
              "      <td>91</td>\n",
              "      <td>93</td>\n",
              "      <td>93</td>\n",
              "      <td>93</td>\n",
              "      <td>102</td>\n",
              "      <td>106</td>\n",
              "      <td>108</td>\n",
              "      <td>110</td>\n",
              "      <td>110</td>\n",
              "      <td>117</td>\n",
              "      <td>130</td>\n",
              "      <td>138</td>\n",
              "      <td>150</td>\n",
              "      <td>150</td>\n",
              "      <td>160</td>\n",
              "      <td>178</td>\n",
              "      <td>178</td>\n",
              "      <td>200</td>\n",
              "      <td>212</td>\n",
              "      <td>226</td>\n",
              "      <td>243</td>\n",
              "      <td>266</td>\n",
              "      <td>313</td>\n",
              "      <td>345</td>\n",
              "      <td>385</td>\n",
              "      <td>432</td>\n",
              "      <td>455</td>\n",
              "    </tr>\n",
              "    <tr>\n",
              "      <th>3</th>\n",
              "      <td>NaN</td>\n",
              "      <td>Nepal</td>\n",
              "      <td>28.1667</td>\n",
              "      <td>84.2500</td>\n",
              "      <td>0</td>\n",
              "      <td>0</td>\n",
              "      <td>0</td>\n",
              "      <td>1</td>\n",
              "      <td>1</td>\n",
              "      <td>1</td>\n",
              "      <td>1</td>\n",
              "      <td>1</td>\n",
              "      <td>1</td>\n",
              "      <td>1</td>\n",
              "      <td>1</td>\n",
              "      <td>1</td>\n",
              "      <td>1</td>\n",
              "      <td>1</td>\n",
              "      <td>1</td>\n",
              "      <td>1</td>\n",
              "      <td>1</td>\n",
              "      <td>1</td>\n",
              "      <td>1</td>\n",
              "      <td>1</td>\n",
              "      <td>1</td>\n",
              "      <td>1</td>\n",
              "      <td>1</td>\n",
              "      <td>1</td>\n",
              "      <td>1</td>\n",
              "      <td>1</td>\n",
              "      <td>1</td>\n",
              "      <td>1</td>\n",
              "      <td>1</td>\n",
              "      <td>1</td>\n",
              "      <td>1</td>\n",
              "      <td>1</td>\n",
              "      <td>1</td>\n",
              "      <td>1</td>\n",
              "      <td>1</td>\n",
              "      <td>1</td>\n",
              "      <td>1</td>\n",
              "      <td>1</td>\n",
              "      <td>1</td>\n",
              "      <td>1</td>\n",
              "      <td>1</td>\n",
              "      <td>1</td>\n",
              "      <td>1</td>\n",
              "      <td>1</td>\n",
              "      <td>1</td>\n",
              "      <td>1</td>\n",
              "      <td>1</td>\n",
              "      <td>1</td>\n",
              "      <td>1</td>\n",
              "      <td>1</td>\n",
              "      <td>1</td>\n",
              "      <td>1</td>\n",
              "      <td>1</td>\n",
              "      <td>1</td>\n",
              "      <td>1</td>\n",
              "      <td>1</td>\n",
              "      <td>1</td>\n",
              "      <td>1</td>\n",
              "      <td>1</td>\n",
              "      <td>1</td>\n",
              "      <td>2</td>\n",
              "    </tr>\n",
              "    <tr>\n",
              "      <th>4</th>\n",
              "      <td>NaN</td>\n",
              "      <td>Malaysia</td>\n",
              "      <td>2.5000</td>\n",
              "      <td>112.5000</td>\n",
              "      <td>0</td>\n",
              "      <td>0</td>\n",
              "      <td>0</td>\n",
              "      <td>3</td>\n",
              "      <td>4</td>\n",
              "      <td>4</td>\n",
              "      <td>4</td>\n",
              "      <td>7</td>\n",
              "      <td>8</td>\n",
              "      <td>8</td>\n",
              "      <td>8</td>\n",
              "      <td>8</td>\n",
              "      <td>8</td>\n",
              "      <td>10</td>\n",
              "      <td>12</td>\n",
              "      <td>12</td>\n",
              "      <td>12</td>\n",
              "      <td>16</td>\n",
              "      <td>16</td>\n",
              "      <td>18</td>\n",
              "      <td>18</td>\n",
              "      <td>18</td>\n",
              "      <td>19</td>\n",
              "      <td>19</td>\n",
              "      <td>22</td>\n",
              "      <td>22</td>\n",
              "      <td>22</td>\n",
              "      <td>22</td>\n",
              "      <td>22</td>\n",
              "      <td>22</td>\n",
              "      <td>22</td>\n",
              "      <td>22</td>\n",
              "      <td>22</td>\n",
              "      <td>22</td>\n",
              "      <td>22</td>\n",
              "      <td>22</td>\n",
              "      <td>23</td>\n",
              "      <td>23</td>\n",
              "      <td>25</td>\n",
              "      <td>29</td>\n",
              "      <td>29</td>\n",
              "      <td>36</td>\n",
              "      <td>50</td>\n",
              "      <td>50</td>\n",
              "      <td>83</td>\n",
              "      <td>93</td>\n",
              "      <td>99</td>\n",
              "      <td>117</td>\n",
              "      <td>129</td>\n",
              "      <td>149</td>\n",
              "      <td>149</td>\n",
              "      <td>197</td>\n",
              "      <td>238</td>\n",
              "      <td>428</td>\n",
              "      <td>566</td>\n",
              "      <td>673</td>\n",
              "      <td>790</td>\n",
              "      <td>900</td>\n",
              "      <td>1030</td>\n",
              "      <td>1183</td>\n",
              "      <td>1306</td>\n",
              "    </tr>\n",
              "  </tbody>\n",
              "</table>\n",
              "</div>"
            ],
            "text/plain": [
              "  Province/State Country/Region      Lat  ...  3/20/20  3/21/20  3/22/20\n",
              "0            NaN       Thailand  15.0000  ...      322      411      599\n",
              "1            NaN          Japan  36.0000  ...      963     1007     1086\n",
              "2            NaN      Singapore   1.2833  ...      385      432      455\n",
              "3            NaN          Nepal  28.1667  ...        1        1        2\n",
              "4            NaN       Malaysia   2.5000  ...     1030     1183     1306\n",
              "\n",
              "[5 rows x 65 columns]"
            ]
          },
          "metadata": {
            "tags": []
          },
          "execution_count": 3
        }
      ]
    },
    {
      "cell_type": "code",
      "metadata": {
        "id": "D3M0HDa-fbal",
        "colab_type": "code",
        "colab": {
          "base_uri": "https://localhost:8080/",
          "height": 33
        },
        "outputId": "db08a8d9-f73c-4d0d-b039-45ce31339218"
      },
      "source": [
        "df.shape"
      ],
      "execution_count": 4,
      "outputs": [
        {
          "output_type": "execute_result",
          "data": {
            "text/plain": [
              "(487, 65)"
            ]
          },
          "metadata": {
            "tags": []
          },
          "execution_count": 4
        }
      ]
    },
    {
      "cell_type": "code",
      "metadata": {
        "id": "zas02mV4fi8K",
        "colab_type": "code",
        "colab": {
          "base_uri": "https://localhost:8080/",
          "height": 212
        },
        "outputId": "587b708d-9abc-4e58-95d6-5bf3f133ecbd"
      },
      "source": [
        "df.isnull().sum()"
      ],
      "execution_count": 5,
      "outputs": [
        {
          "output_type": "execute_result",
          "data": {
            "text/plain": [
              "Province/State    162\n",
              "Country/Region      0\n",
              "Lat                 0\n",
              "Long                0\n",
              "1/22/20             0\n",
              "                 ... \n",
              "3/18/20             0\n",
              "3/19/20             0\n",
              "3/20/20             0\n",
              "3/21/20             0\n",
              "3/22/20             0\n",
              "Length: 65, dtype: int64"
            ]
          },
          "metadata": {
            "tags": []
          },
          "execution_count": 5
        }
      ]
    },
    {
      "cell_type": "code",
      "metadata": {
        "id": "akZQxpn3hwZO",
        "colab_type": "code",
        "colab": {}
      },
      "source": [
        "date_lis=['1/22/20', '1/23/20',\n",
        "       '1/24/20', '1/25/20', '1/26/20', '1/27/20', '1/28/20', '1/29/20',\n",
        "       '1/30/20', '1/31/20', '2/1/20', '2/2/20', '2/3/20', '2/4/20', '2/5/20',\n",
        "       '2/6/20', '2/7/20', '2/8/20', '2/9/20', '2/10/20', '2/11/20', '2/12/20',\n",
        "       '2/13/20', '2/14/20', '2/15/20', '2/16/20', '2/17/20', '2/18/20',\n",
        "       '2/19/20', '2/20/20', '2/21/20', '2/22/20', '2/23/20', '2/24/20',\n",
        "       '2/25/20', '2/26/20', '2/27/20', '2/28/20', '2/29/20', '3/1/20',\n",
        "       '3/2/20', '3/3/20', '3/4/20', '3/5/20', '3/6/20', '3/7/20', '3/8/20',\n",
        "       '3/9/20', '3/10/20', '3/11/20', '3/12/20', '3/13/20', '3/14/20',\n",
        "       '3/15/20', '3/16/20', '3/17/20', '3/18/20', '3/19/20', '3/20/20',\n",
        "       '3/21/20', '3/22/20']\n",
        "drop_lis=[]\n",
        "for item in date_lis:\n",
        "  if df[item].value_counts().max()/df[item].value_counts().sum()> 0.7:\n",
        "    drop_lis.append(item)\n"
      ],
      "execution_count": 0,
      "outputs": []
    },
    {
      "cell_type": "code",
      "metadata": {
        "id": "R57aq_C6jOTU",
        "colab_type": "code",
        "colab": {}
      },
      "source": [
        "df1=df.drop(drop_lis, axis=1)"
      ],
      "execution_count": 0,
      "outputs": []
    },
    {
      "cell_type": "code",
      "metadata": {
        "id": "0HJnT6rWlR3F",
        "colab_type": "code",
        "colab": {}
      },
      "source": [
        "df1=df1.drop(['Province/State','Lat','Long'],axis=1)"
      ],
      "execution_count": 0,
      "outputs": []
    },
    {
      "cell_type": "code",
      "metadata": {
        "id": "clvr54VLmvFg",
        "colab_type": "code",
        "colab": {}
      },
      "source": [
        "df2=df1.groupby('Country/Region').sum().reset_index().sort_values('3/22/20',ascending=False)"
      ],
      "execution_count": 0,
      "outputs": []
    },
    {
      "cell_type": "code",
      "metadata": {
        "id": "dOW3PXzrmB2u",
        "colab_type": "code",
        "colab": {
          "base_uri": "https://localhost:8080/",
          "height": 622
        },
        "outputId": "60cbd9a4-2739-4d5a-8037-d47ad92f457a"
      },
      "source": [
        "plt.figure(figsize=(10,10))\n",
        "sns.barplot(x=df2['3/22/20'],y=df2['Country/Region'][:40],edgecolor='black',palette=sns.color_palette('icefire_r',40))"
      ],
      "execution_count": 10,
      "outputs": [
        {
          "output_type": "execute_result",
          "data": {
            "text/plain": [
              "<matplotlib.axes._subplots.AxesSubplot at 0x7f1adffc0cc0>"
            ]
          },
          "metadata": {
            "tags": []
          },
          "execution_count": 10
        },
        {
          "output_type": "display_data",
          "data": {
            "image/png": "[encoded data removed]",
            "text/plain": [
              "<Figure size 720x720 with 1 Axes>"
            ]
          },
          "metadata": {
            "tags": []
          }
        }
      ]
    },
    {
      "cell_type": "code",
      "metadata": {
        "id": "cyu9PqC6odzB",
        "colab_type": "code",
        "colab": {}
      },
      "source": [
        "df3=df2.T"
      ],
      "execution_count": 0,
      "outputs": []
    },
    {
      "cell_type": "code",
      "metadata": {
        "id": "wfIKMpR2osle",
        "colab_type": "code",
        "colab": {}
      },
      "source": [
        "df3.columns= df3.iloc[0]\n",
        "df3=df3.iloc[1:]\n",
        "df3=df3.reset_index()"
      ],
      "execution_count": 0,
      "outputs": []
    },
    {
      "cell_type": "code",
      "metadata": {
        "id": "O_A_WPw6sNVt",
        "colab_type": "code",
        "colab": {
          "base_uri": "https://localhost:8080/",
          "height": 893
        },
        "outputId": "de2eeda4-acfc-4529-e36e-1074f1bb85fe"
      },
      "source": [
        "plt.figure(figsize=(15,15))\n",
        "\n",
        "plt.subplot(3,1,1)\n",
        "sns.pointplot(y=df3['US'],x=df3['index'],color='Purple',join=False, markers='x')\n",
        "plt.subplot(3,1,2)\n",
        "sns.pointplot(y=df3['China'],x=df3['index'],color='Red',join=False, markers='x')\n",
        "plt.subplot(3,1,3)\n",
        "sns.pointplot(y=df3['Italy'],x=df3['index'],color='Black',join=False, markers='x')\n",
        "\n"
      ],
      "execution_count": 13,
      "outputs": [
        {
          "output_type": "execute_result",
          "data": {
            "text/plain": [
              "<matplotlib.axes._subplots.AxesSubplot at 0x7f1add083208>"
            ]
          },
          "metadata": {
            "tags": []
          },
          "execution_count": 13
        },
        {
          "output_type": "display_data",
          "data": {
            "image/png": "[encoded data removed]",
            "text/plain": [
              "<Figure size 1080x1080 with 3 Axes>"
            ]
          },
          "metadata": {
            "tags": []
          }
        }
      ]
    },
    {
      "cell_type": "code",
      "metadata": {
        "id": "DR-tguzPDBXN",
        "colab_type": "code",
        "colab": {}
      },
      "source": [
        "df2['Country/Region']=df2['Country/Region'].replace({'US':'USA','Korea, South':'South Korea','Taiwan*':'Taiwan','Congo (Kinshasa)':'Congo',\"Cote d'Ivoire\":'Ivory Coast','Bahamas, The':'Bahamas','Gambia, The':'Gambia','Congo (Brazzaville)':'Congo'})"
      ],
      "execution_count": 0,
      "outputs": []
    },
    {
      "cell_type": "code",
      "metadata": {
        "id": "CpbttiENKSuX",
        "colab_type": "code",
        "colab": {}
      },
      "source": [
        "df2=df2[df2['Country/Region'] != 'Timor-Leste']\n",
        "df2=df2[df2['Country/Region'] != 'Cruise Ship']\n",
        "df2=df2[df2['Country/Region'] != 'Kosovo']\n",
        "df2=df2[df2['Country/Region'] != 'Holy See']\n",
        "df2=df2[df2['Country/Region'] != 'East Timor']"
      ],
      "execution_count": 0,
      "outputs": []
    },
    {
      "cell_type": "code",
      "metadata": {
        "id": "c0n9z3UpMPJ0",
        "colab_type": "code",
        "colab": {}
      },
      "source": [
        "from pycountry_convert import country_alpha2_to_continent_code, country_name_to_country_alpha2\n",
        "\n",
        "continents = {\n",
        "    'NA': 'North America',\n",
        "    'SA': 'South America', \n",
        "    'AS': 'Asia',\n",
        "    'OC': 'Australia',\n",
        "    'AF': 'Africa',\n",
        "    'EU': 'Europe'\n",
        "}\n",
        "countries = df2['Country/Region']\n",
        "lis= [continents[country_alpha2_to_continent_code(country_name_to_country_alpha2(country))] for country in countries]"
      ],
      "execution_count": 0,
      "outputs": []
    },
    {
      "cell_type": "code",
      "metadata": {
        "id": "23EO8K-fM9aP",
        "colab_type": "code",
        "colab": {}
      },
      "source": [
        "df2['Continent']=lis"
      ],
      "execution_count": 0,
      "outputs": []
    },
    {
      "cell_type": "code",
      "metadata": {
        "id": "vAXwreETNa8A",
        "colab_type": "code",
        "colab": {}
      },
      "source": [
        "df4=df2.groupby('Continent').sum().reset_index()"
      ],
      "execution_count": 0,
      "outputs": []
    },
    {
      "cell_type": "code",
      "metadata": {
        "id": "fwGg9XS6PcZG",
        "colab_type": "code",
        "colab": {
          "base_uri": "https://localhost:8080/",
          "height": 528
        },
        "outputId": "fb159a38-cda0-43ad-daeb-28adfeab4682"
      },
      "source": [
        "plt.figure(figsize=(18,8))\n",
        "\n",
        "plt.subplot(1,2,1)\n",
        "sns.barplot(y=df4['3/15/20'],x=df4['Continent'],edgecolor='black',palette=sns.color_palette('plasma',6))\n",
        "plt.subplot(1,2,2)\n",
        "sns.barplot(y=df4['3/20/20'],x=df4['Continent'],edgecolor='black',palette=sns.color_palette('plasma',6))\n",
        "plt.title('Growth of Positive Cases over a span of 5 days')\n"
      ],
      "execution_count": 19,
      "outputs": [
        {
          "output_type": "execute_result",
          "data": {
            "text/plain": [
              "Text(0.5, 1.0, 'Growth of Positive Cases over a span of 5 days')"
            ]
          },
          "metadata": {
            "tags": []
          },
          "execution_count": 19
        },
        {
          "output_type": "display_data",
          "data": {
            "image/png": "[encoded data removed]",
            "text/plain": [
              "<Figure size 1296x576 with 2 Axes>"
            ]
          },
          "metadata": {
            "tags": []
          }
        }
      ]
    },
    {
      "cell_type": "code",
      "metadata": {
        "id": "Sx5CTeWnRDNs",
        "colab_type": "code",
        "colab": {}
      },
      "source": [
        ""
      ],
      "execution_count": 0,
      "outputs": []
    }
  ]
}