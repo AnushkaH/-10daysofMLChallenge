{
  "nbformat": 4,
  "nbformat_minor": 0,
  "metadata": {
    "colab": {
      "name": "10days of ML challenge-Day6",
      "provenance": [],
      "collapsed_sections": []
    },
    "kernelspec": {
      "name": "python3",
      "display_name": "Python 3"
    }
  },
  "cells": [
    {
      "cell_type": "code",
      "metadata": {
        "id": "iAnaWTeWz6o3",
        "colab_type": "code",
        "colab": {}
      },
      "source": [
        "import tensorflow as tf\n",
        "from tensorflow.keras.models import Sequential\n",
        "from tensorflow.keras.layers import Dense,Conv2D,Flatten,Dropout,MaxPooling2D\n",
        "from sklearn.metrics import classification_report\n",
        "from keras.optimizers import SGD\n",
        "from keras.datasets import fashion_mnist\n",
        "from keras.utils import np_utils\n",
        "from keras import backend as K\n",
        "from imutils import build_montages\n",
        "import matplotlib.pyplot as plt\n",
        "import numpy as np\n",
        "import pandas as pd\n",
        "import cv2"
      ],
      "execution_count": 0,
      "outputs": []
    },
    {
      "cell_type": "code",
      "metadata": {
        "id": "0-jhhofs0p-o",
        "colab_type": "code",
        "colab": {}
      },
      "source": [
        "\n",
        "train=pd.read_csv('https://pjreddie.com/media/files/mnist_train.csv')\n",
        "test=pd.read_csv('https://pjreddie.com/media/files/mnist_test.csv')"
      ],
      "execution_count": 0,
      "outputs": []
    },
    {
      "cell_type": "code",
      "metadata": {
        "id": "16V67X4v3R3r",
        "colab_type": "code",
        "colab": {}
      },
      "source": [
        "# load dataset\n",
        "(X_train, y_train), (X_test,y_test) = fashion_mnist.load_data()"
      ],
      "execution_count": 0,
      "outputs": []
    },
    {
      "cell_type": "code",
      "metadata": {
        "id": "l-bztGEL6Tw9",
        "colab_type": "code",
        "colab": {
          "base_uri": "https://localhost:8080/",
          "height": 34
        },
        "outputId": "ad8453c1-e2a1-4015-da08-d29439ef3fa8"
      },
      "source": [
        ""
      ],
      "execution_count": 71,
      "outputs": [
        {
          "output_type": "execute_result",
          "data": {
            "text/plain": [
              "array([9, 2, 1, ..., 8, 1, 5], dtype=uint8)"
            ]
          },
          "metadata": {
            "tags": []
          },
          "execution_count": 71
        }
      ]
    },
    {
      "cell_type": "code",
      "metadata": {
        "id": "sfFvdUG7Hxc5",
        "colab_type": "code",
        "colab": {}
      },
      "source": [
        "X_train=X_train/255.0\n",
        "X_test=X_test/255.0"
      ],
      "execution_count": 0,
      "outputs": []
    },
    {
      "cell_type": "code",
      "metadata": {
        "id": "Hg2MxY9MJ9er",
        "colab_type": "code",
        "colab": {}
      },
      "source": [
        "image_shape = (28,28,1)\n",
        "X_train = X_train.reshape(X_train.shape[0],*image_shape)\n",
        "X_test = X_test.reshape(X_test.shape[0],*image_shape)"
      ],
      "execution_count": 0,
      "outputs": []
    },
    {
      "cell_type": "code",
      "metadata": {
        "id": "RKCs5dfliyGV",
        "colab_type": "code",
        "colab": {}
      },
      "source": [
        "classifier = Sequential([\n",
        "    Conv2D(filters=32,kernel_size=3,activation='relu',input_shape = image_shape),\n",
        "    MaxPooling2D(pool_size=2) ,# down sampling the output instead of 28*28 it is 14*14\n",
        "    Dropout(0.2),\n",
        "    Flatten(), # flatten out the layers\n",
        "    Dense(32,activation='relu'),\n",
        "    Dense(10,activation = 'softmax')\n",
        "    \n",
        "])\n",
        "classifier.compile(loss ='sparse_categorical_crossentropy', optimizer='adam',metrics =['accuracy'])"
      ],
      "execution_count": 0,
      "outputs": []
    },
    {
      "cell_type": "code",
      "metadata": {
        "id": "kPKnTsrII6MU",
        "colab_type": "code",
        "colab": {
          "base_uri": "https://localhost:8080/",
          "height": 34
        },
        "outputId": "ce055592-3500-4deb-bf4b-0d70d1c0d4e3"
      },
      "source": [
        "mnist= classifier.fit(X_train,y_train,batch_size=512,\n",
        "                         nb_epoch = 50,\n",
        "                         validation_data = (X_test,y_test),verbose=1)\n",
        "                         "
      ],
      "execution_count": 75,
      "outputs": [
        {
          "output_type": "stream",
          "text": [
            "118/118 [==============================] - 22s 190ms/step - loss: 0.7028 - accuracy: 0.7685 - val_loss: 0.4544 - val_accuracy: 0.8382\n"
          ],
          "name": "stdout"
        }
      ]
    },
    {
      "cell_type": "code",
      "metadata": {
        "id": "7HgtribYJuQh",
        "colab_type": "code",
        "colab": {
          "base_uri": "https://localhost:8080/",
          "height": 34
        },
        "outputId": "026e39ce-ff6b-4d3d-8e8f-1ea47bef8251"
      },
      "source": [
        "classifier.evaluate(X_test,y_test,verbose=0)\n"
      ],
      "execution_count": 76,
      "outputs": [
        {
          "output_type": "execute_result",
          "data": {
            "text/plain": [
              "[0.4557487666606903, 0.8381999731063843]"
            ]
          },
          "metadata": {
            "tags": []
          },
          "execution_count": 76
        }
      ]
    },
    {
      "cell_type": "code",
      "metadata": {
        "id": "018G_nxeqHYh",
        "colab_type": "code",
        "colab": {
          "base_uri": "https://localhost:8080/",
          "height": 312
        },
        "outputId": "18ce456d-5e36-439f-fcba-ec979874710f"
      },
      "source": [
        "\n",
        "predicted_classes = classifier.predict_classes(X_test)\n",
        "print(classification_report(y_test, predicted_classes))"
      ],
      "execution_count": 77,
      "outputs": [
        {
          "output_type": "stream",
          "text": [
            "              precision    recall  f1-score   support\n",
            "\n",
            "           0       0.80      0.81      0.81      1000\n",
            "           1       0.98      0.95      0.97      1000\n",
            "           2       0.72      0.78      0.75      1000\n",
            "           3       0.84      0.87      0.85      1000\n",
            "           4       0.79      0.66      0.72      1000\n",
            "           5       0.93      0.93      0.93      1000\n",
            "           6       0.57      0.60      0.58      1000\n",
            "           7       0.92      0.89      0.90      1000\n",
            "           8       0.94      0.95      0.94      1000\n",
            "           9       0.92      0.95      0.94      1000\n",
            "\n",
            "    accuracy                           0.84     10000\n",
            "   macro avg       0.84      0.84      0.84     10000\n",
            "weighted avg       0.84      0.84      0.84     10000\n",
            "\n"
          ],
          "name": "stdout"
        }
      ]
    },
    {
      "cell_type": "code",
      "metadata": {
        "id": "XLBQ0vcwrfYn",
        "colab_type": "code",
        "colab": {
          "base_uri": "https://localhost:8080/",
          "height": 297
        },
        "outputId": "b01ca901-e11c-4f73-cf6c-0e5d3ecb3eaf"
      },
      "source": [
        "correct = np.nonzero(predicted_classes==y_test)[0]\n",
        "\n",
        "incorrect = np.nonzero(predicted_classes!=y_test)[0]\n",
        "\n",
        "for i, correct in enumerate(correct[:9]):\n",
        "    plt.subplot(3,3,i+1)\n",
        "    plt.imshow(X_test[correct].reshape(28,28),  interpolation='none')\n",
        "    plt.title(\"Predicted {}, Class {}\".format(predicted_classes[correct], y_test[correct]))\n",
        "    plt.tight_layout()"
      ],
      "execution_count": 81,
      "outputs": [
        {
          "output_type": "display_data",
          "data": {
            "image/png": "[encoded data removed]",
            "text/plain": [
              "<Figure size 432x288 with 9 Axes>"
            ]
          },
          "metadata": {
            "tags": []
          }
        }
      ]
    },
    {
      "cell_type": "code",
      "metadata": {
        "id": "BrR-hOZrwTXl",
        "colab_type": "code",
        "colab": {}
      },
      "source": [
        ""
      ],
      "execution_count": 0,
      "outputs": []
    }
  ]
}